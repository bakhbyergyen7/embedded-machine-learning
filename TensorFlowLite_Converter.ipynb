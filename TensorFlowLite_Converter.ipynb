{
  "nbformat": 4,
  "nbformat_minor": 0,
  "metadata": {
    "colab": {
      "provenance": []
    },
    "kernelspec": {
      "name": "python3",
      "display_name": "Python 3"
    }
  },
  "cells": [
    {
      "cell_type": "markdown",
      "source": [
        "---\n",
        "\n",
        "\n",
        "Before starting, you must click on the \"Copy To Drive\" option in the top bar. Go to File --> Save a Copy to Drive. Name it *'LastName_FirstName_T2.1.ipynb'*. <ins>This is the master notebook so you will not be able to save your changes without copying it !</ins> Once you click on that, make sure you are working on that version of the notebook so that your work is saved.\n",
        "\n",
        "\n",
        "\n",
        "---"
      ],
      "metadata": {
        "id": "3tDIhF6tplj5"
      }
    },
    {
      "cell_type": "markdown",
      "source": [
        "### In this Colab, we will explore the *TensorFlow Lite Converter* to create a TFLite model from the original TensorFlow model."
      ],
      "metadata": {
        "id": "rIDgevmQ1ONM"
      }
    },
    {
      "cell_type": "code",
      "metadata": {
        "id": "D1J15Vh_1Jih",
        "cellView": "both",
        "colab": {
          "base_uri": "https://localhost:8080/"
        },
        "outputId": "2f33e250-0706-475c-d12b-d27efd492e24"
      },
      "source": [
        "try:\n",
        "  # %tensorflow_version only exists in Colab.\n",
        "  %tensorflow_version 2.x\n",
        "except Exception:\n",
        "  pass"
      ],
      "execution_count": null,
      "outputs": [
        {
          "output_type": "stream",
          "name": "stdout",
          "text": [
            "Colab only includes TensorFlow 2.x; %tensorflow_version has no effect.\n"
          ]
        }
      ]
    },
    {
      "cell_type": "markdown",
      "source": [
        "We import the following libraries -\n",
        "\n",
        "1.   [tensorflow](https://www.tensorflow.org/) - open source library to develop and train ML models\n",
        "2.   [numpy](https://numpy.org/) - scientific computing in Python\n",
        "3.   [keras](https://keras.io/) - deep learning framework built on top of TensorFlow"
      ],
      "metadata": {
        "id": "KRoL4QUT-7Ye"
      }
    },
    {
      "cell_type": "code",
      "metadata": {
        "id": "O6k2Pg0gTYB8"
      },
      "source": [
        "import tensorflow as tf\n",
        "import numpy as np\n",
        "from tensorflow.keras import Sequential\n",
        "from tensorflow.keras.layers import Dense"
      ],
      "execution_count": null,
      "outputs": []
    },
    {
      "cell_type": "markdown",
      "source": [
        "# 1. Define TensorFlow Model\n",
        "\n",
        "We consider a single-layer neural network for a Linear Regression Task - modeling Y = 2X + 3. We define the optimizer to be 'Stochastic Gradient Descent' and the loss function to be 'Mean Squared Error'."
      ],
      "metadata": {
        "id": "Zh7QdIbg_Gxe"
      }
    },
    {
      "cell_type": "code",
      "metadata": {
        "id": "YAwdHf6ySQGt"
      },
      "source": [
        "my_layer = Dense(units=1, input_shape=[1])\n",
        "model = Sequential([my_layer])\n",
        "\n",
        "OPT = 'sgd'# < YOUR CODE HERE >\n",
        "LOSS = 'mean_squared_error'# < YOUR LOSS HERE >\n",
        "model.compile(optimizer=OPT, loss=LOSS)\n",
        "\n",
        "xs = np.array([-1.0, 0.0, 1.0, 2.0, 3.0, 4.0], dtype=float)\n",
        "ys = np.array([1.0, 3.0, 5.0, 7.0, 9.0, 11.0], dtype=float)"
      ],
      "execution_count": null,
      "outputs": []
    },
    {
      "cell_type": "markdown",
      "source": [
        "***Hint:*** Use optimizer='sgd', loss='mean_squared_error'"
      ],
      "metadata": {
        "id": "ejK-B-OrcNJf"
      }
    },
    {
      "cell_type": "markdown",
      "source": [
        "### Train Model\n",
        "\n",
        "We fit our neural network on the defined data (Xs and Ys)."
      ],
      "metadata": {
        "id": "S6rTaMfAAh8b"
      }
    },
    {
      "cell_type": "code",
      "source": [
        "hist = model.fit(xs, ys, epochs=200)"
      ],
      "metadata": {
        "id": "e_0VRfW-Al2k",
        "colab": {
          "base_uri": "https://localhost:8080/"
        },
        "outputId": "6242ed73-21f9-4109-8277-126d8ff4008d"
      },
      "execution_count": null,
      "outputs": [
        {
          "output_type": "stream",
          "name": "stdout",
          "text": [
            "Epoch 1/200\n",
            "1/1 [==============================] - 0s 445ms/step - loss: 113.6811\n",
            "Epoch 2/200\n",
            "1/1 [==============================] - 0s 9ms/step - loss: 89.7314\n",
            "Epoch 3/200\n",
            "1/1 [==============================] - 0s 9ms/step - loss: 70.8829\n",
            "Epoch 4/200\n",
            "1/1 [==============================] - 0s 7ms/step - loss: 56.0480\n",
            "Epoch 5/200\n",
            "1/1 [==============================] - 0s 11ms/step - loss: 44.3708\n",
            "Epoch 6/200\n",
            "1/1 [==============================] - 0s 9ms/step - loss: 35.1781\n",
            "Epoch 7/200\n",
            "1/1 [==============================] - 0s 8ms/step - loss: 27.9402\n",
            "Epoch 8/200\n",
            "1/1 [==============================] - 0s 8ms/step - loss: 22.2404\n",
            "Epoch 9/200\n",
            "1/1 [==============================] - 0s 13ms/step - loss: 17.7507\n",
            "Epoch 10/200\n",
            "1/1 [==============================] - 0s 8ms/step - loss: 14.2132\n",
            "Epoch 11/200\n",
            "1/1 [==============================] - 0s 8ms/step - loss: 11.4250\n",
            "Epoch 12/200\n",
            "1/1 [==============================] - 0s 7ms/step - loss: 9.2265\n",
            "Epoch 13/200\n",
            "1/1 [==============================] - 0s 7ms/step - loss: 7.4918\n",
            "Epoch 14/200\n",
            "1/1 [==============================] - 0s 8ms/step - loss: 6.1223\n",
            "Epoch 15/200\n",
            "1/1 [==============================] - 0s 6ms/step - loss: 5.0402\n",
            "Epoch 16/200\n",
            "1/1 [==============================] - 0s 9ms/step - loss: 4.1842\n",
            "Epoch 17/200\n",
            "1/1 [==============================] - 0s 6ms/step - loss: 3.5062\n",
            "Epoch 18/200\n",
            "1/1 [==============================] - 0s 6ms/step - loss: 2.9685\n",
            "Epoch 19/200\n",
            "1/1 [==============================] - 0s 7ms/step - loss: 2.5411\n",
            "Epoch 20/200\n",
            "1/1 [==============================] - 0s 9ms/step - loss: 2.2006\n",
            "Epoch 21/200\n",
            "1/1 [==============================] - 0s 6ms/step - loss: 1.9286\n",
            "Epoch 22/200\n",
            "1/1 [==============================] - 0s 11ms/step - loss: 1.7105\n",
            "Epoch 23/200\n",
            "1/1 [==============================] - 0s 7ms/step - loss: 1.5350\n",
            "Epoch 24/200\n",
            "1/1 [==============================] - 0s 13ms/step - loss: 1.3930\n",
            "Epoch 25/200\n",
            "1/1 [==============================] - 0s 6ms/step - loss: 1.2775\n",
            "Epoch 26/200\n",
            "1/1 [==============================] - 0s 11ms/step - loss: 1.1829\n",
            "Epoch 27/200\n",
            "1/1 [==============================] - 0s 9ms/step - loss: 1.1048\n",
            "Epoch 28/200\n",
            "1/1 [==============================] - 0s 12ms/step - loss: 1.0398\n",
            "Epoch 29/200\n",
            "1/1 [==============================] - 0s 8ms/step - loss: 0.9851\n",
            "Epoch 30/200\n",
            "1/1 [==============================] - 0s 7ms/step - loss: 0.9387\n",
            "Epoch 31/200\n",
            "1/1 [==============================] - 0s 9ms/step - loss: 0.8988\n",
            "Epoch 32/200\n",
            "1/1 [==============================] - 0s 8ms/step - loss: 0.8641\n",
            "Epoch 33/200\n",
            "1/1 [==============================] - 0s 11ms/step - loss: 0.8336\n",
            "Epoch 34/200\n",
            "1/1 [==============================] - 0s 6ms/step - loss: 0.8065\n",
            "Epoch 35/200\n",
            "1/1 [==============================] - 0s 6ms/step - loss: 0.7820\n",
            "Epoch 36/200\n",
            "1/1 [==============================] - 0s 6ms/step - loss: 0.7597\n",
            "Epoch 37/200\n",
            "1/1 [==============================] - 0s 6ms/step - loss: 0.7393\n",
            "Epoch 38/200\n",
            "1/1 [==============================] - 0s 8ms/step - loss: 0.7202\n",
            "Epoch 39/200\n",
            "1/1 [==============================] - 0s 10ms/step - loss: 0.7024\n",
            "Epoch 40/200\n",
            "1/1 [==============================] - 0s 6ms/step - loss: 0.6856\n",
            "Epoch 41/200\n",
            "1/1 [==============================] - 0s 6ms/step - loss: 0.6696\n",
            "Epoch 42/200\n",
            "1/1 [==============================] - 0s 6ms/step - loss: 0.6544\n",
            "Epoch 43/200\n",
            "1/1 [==============================] - 0s 9ms/step - loss: 0.6398\n",
            "Epoch 44/200\n",
            "1/1 [==============================] - 0s 12ms/step - loss: 0.6258\n",
            "Epoch 45/200\n",
            "1/1 [==============================] - 0s 7ms/step - loss: 0.6122\n",
            "Epoch 46/200\n",
            "1/1 [==============================] - 0s 6ms/step - loss: 0.5990\n",
            "Epoch 47/200\n",
            "1/1 [==============================] - 0s 7ms/step - loss: 0.5863\n",
            "Epoch 48/200\n",
            "1/1 [==============================] - 0s 9ms/step - loss: 0.5739\n",
            "Epoch 49/200\n",
            "1/1 [==============================] - 0s 7ms/step - loss: 0.5618\n",
            "Epoch 50/200\n",
            "1/1 [==============================] - 0s 8ms/step - loss: 0.5501\n",
            "Epoch 51/200\n",
            "1/1 [==============================] - 0s 7ms/step - loss: 0.5386\n",
            "Epoch 52/200\n",
            "1/1 [==============================] - 0s 9ms/step - loss: 0.5274\n",
            "Epoch 53/200\n",
            "1/1 [==============================] - 0s 8ms/step - loss: 0.5165\n",
            "Epoch 54/200\n",
            "1/1 [==============================] - 0s 6ms/step - loss: 0.5058\n",
            "Epoch 55/200\n",
            "1/1 [==============================] - 0s 5ms/step - loss: 0.4953\n",
            "Epoch 56/200\n",
            "1/1 [==============================] - 0s 6ms/step - loss: 0.4851\n",
            "Epoch 57/200\n",
            "1/1 [==============================] - 0s 7ms/step - loss: 0.4751\n",
            "Epoch 58/200\n",
            "1/1 [==============================] - 0s 6ms/step - loss: 0.4653\n",
            "Epoch 59/200\n",
            "1/1 [==============================] - 0s 6ms/step - loss: 0.4557\n",
            "Epoch 60/200\n",
            "1/1 [==============================] - 0s 5ms/step - loss: 0.4464\n",
            "Epoch 61/200\n",
            "1/1 [==============================] - 0s 6ms/step - loss: 0.4372\n",
            "Epoch 62/200\n",
            "1/1 [==============================] - 0s 5ms/step - loss: 0.4282\n",
            "Epoch 63/200\n",
            "1/1 [==============================] - 0s 6ms/step - loss: 0.4194\n",
            "Epoch 64/200\n",
            "1/1 [==============================] - 0s 5ms/step - loss: 0.4107\n",
            "Epoch 65/200\n",
            "1/1 [==============================] - 0s 9ms/step - loss: 0.4023\n",
            "Epoch 66/200\n",
            "1/1 [==============================] - 0s 6ms/step - loss: 0.3940\n",
            "Epoch 67/200\n",
            "1/1 [==============================] - 0s 6ms/step - loss: 0.3859\n",
            "Epoch 68/200\n",
            "1/1 [==============================] - 0s 7ms/step - loss: 0.3780\n",
            "Epoch 69/200\n",
            "1/1 [==============================] - 0s 5ms/step - loss: 0.3702\n",
            "Epoch 70/200\n",
            "1/1 [==============================] - 0s 6ms/step - loss: 0.3626\n",
            "Epoch 71/200\n",
            "1/1 [==============================] - 0s 7ms/step - loss: 0.3552\n",
            "Epoch 72/200\n",
            "1/1 [==============================] - 0s 6ms/step - loss: 0.3479\n",
            "Epoch 73/200\n",
            "1/1 [==============================] - 0s 6ms/step - loss: 0.3407\n",
            "Epoch 74/200\n",
            "1/1 [==============================] - 0s 7ms/step - loss: 0.3337\n",
            "Epoch 75/200\n",
            "1/1 [==============================] - 0s 7ms/step - loss: 0.3269\n",
            "Epoch 76/200\n",
            "1/1 [==============================] - 0s 5ms/step - loss: 0.3202\n",
            "Epoch 77/200\n",
            "1/1 [==============================] - 0s 9ms/step - loss: 0.3136\n",
            "Epoch 78/200\n",
            "1/1 [==============================] - 0s 5ms/step - loss: 0.3072\n",
            "Epoch 79/200\n",
            "1/1 [==============================] - 0s 5ms/step - loss: 0.3008\n",
            "Epoch 80/200\n",
            "1/1 [==============================] - 0s 5ms/step - loss: 0.2947\n",
            "Epoch 81/200\n",
            "1/1 [==============================] - 0s 6ms/step - loss: 0.2886\n",
            "Epoch 82/200\n",
            "1/1 [==============================] - 0s 7ms/step - loss: 0.2827\n",
            "Epoch 83/200\n",
            "1/1 [==============================] - 0s 7ms/step - loss: 0.2769\n",
            "Epoch 84/200\n",
            "1/1 [==============================] - 0s 11ms/step - loss: 0.2712\n",
            "Epoch 85/200\n",
            "1/1 [==============================] - 0s 6ms/step - loss: 0.2656\n",
            "Epoch 86/200\n",
            "1/1 [==============================] - 0s 5ms/step - loss: 0.2602\n",
            "Epoch 87/200\n",
            "1/1 [==============================] - 0s 8ms/step - loss: 0.2548\n",
            "Epoch 88/200\n",
            "1/1 [==============================] - 0s 5ms/step - loss: 0.2496\n",
            "Epoch 89/200\n",
            "1/1 [==============================] - 0s 6ms/step - loss: 0.2445\n",
            "Epoch 90/200\n",
            "1/1 [==============================] - 0s 6ms/step - loss: 0.2394\n",
            "Epoch 91/200\n",
            "1/1 [==============================] - 0s 6ms/step - loss: 0.2345\n",
            "Epoch 92/200\n",
            "1/1 [==============================] - 0s 10ms/step - loss: 0.2297\n",
            "Epoch 93/200\n",
            "1/1 [==============================] - 0s 6ms/step - loss: 0.2250\n",
            "Epoch 94/200\n",
            "1/1 [==============================] - 0s 7ms/step - loss: 0.2204\n",
            "Epoch 95/200\n",
            "1/1 [==============================] - 0s 6ms/step - loss: 0.2158\n",
            "Epoch 96/200\n",
            "1/1 [==============================] - 0s 11ms/step - loss: 0.2114\n",
            "Epoch 97/200\n",
            "1/1 [==============================] - 0s 6ms/step - loss: 0.2071\n",
            "Epoch 98/200\n",
            "1/1 [==============================] - 0s 6ms/step - loss: 0.2028\n",
            "Epoch 99/200\n",
            "1/1 [==============================] - 0s 6ms/step - loss: 0.1986\n",
            "Epoch 100/200\n",
            "1/1 [==============================] - 0s 6ms/step - loss: 0.1946\n",
            "Epoch 101/200\n",
            "1/1 [==============================] - 0s 9ms/step - loss: 0.1906\n",
            "Epoch 102/200\n",
            "1/1 [==============================] - 0s 6ms/step - loss: 0.1866\n",
            "Epoch 103/200\n",
            "1/1 [==============================] - 0s 7ms/step - loss: 0.1828\n",
            "Epoch 104/200\n",
            "1/1 [==============================] - 0s 11ms/step - loss: 0.1791\n",
            "Epoch 105/200\n",
            "1/1 [==============================] - 0s 6ms/step - loss: 0.1754\n",
            "Epoch 106/200\n",
            "1/1 [==============================] - 0s 6ms/step - loss: 0.1718\n",
            "Epoch 107/200\n",
            "1/1 [==============================] - 0s 6ms/step - loss: 0.1683\n",
            "Epoch 108/200\n",
            "1/1 [==============================] - 0s 8ms/step - loss: 0.1648\n",
            "Epoch 109/200\n",
            "1/1 [==============================] - 0s 6ms/step - loss: 0.1614\n",
            "Epoch 110/200\n",
            "1/1 [==============================] - 0s 6ms/step - loss: 0.1581\n",
            "Epoch 111/200\n",
            "1/1 [==============================] - 0s 6ms/step - loss: 0.1548\n",
            "Epoch 112/200\n",
            "1/1 [==============================] - 0s 12ms/step - loss: 0.1517\n",
            "Epoch 113/200\n",
            "1/1 [==============================] - 0s 6ms/step - loss: 0.1486\n",
            "Epoch 114/200\n",
            "1/1 [==============================] - 0s 6ms/step - loss: 0.1455\n",
            "Epoch 115/200\n",
            "1/1 [==============================] - 0s 5ms/step - loss: 0.1425\n",
            "Epoch 116/200\n",
            "1/1 [==============================] - 0s 6ms/step - loss: 0.1396\n",
            "Epoch 117/200\n",
            "1/1 [==============================] - 0s 6ms/step - loss: 0.1367\n",
            "Epoch 118/200\n",
            "1/1 [==============================] - 0s 11ms/step - loss: 0.1339\n",
            "Epoch 119/200\n",
            "1/1 [==============================] - 0s 6ms/step - loss: 0.1312\n",
            "Epoch 120/200\n",
            "1/1 [==============================] - 0s 6ms/step - loss: 0.1285\n",
            "Epoch 121/200\n",
            "1/1 [==============================] - 0s 6ms/step - loss: 0.1258\n",
            "Epoch 122/200\n",
            "1/1 [==============================] - 0s 6ms/step - loss: 0.1232\n",
            "Epoch 123/200\n",
            "1/1 [==============================] - 0s 11ms/step - loss: 0.1207\n",
            "Epoch 124/200\n",
            "1/1 [==============================] - 0s 6ms/step - loss: 0.1182\n",
            "Epoch 125/200\n",
            "1/1 [==============================] - 0s 6ms/step - loss: 0.1158\n",
            "Epoch 126/200\n",
            "1/1 [==============================] - 0s 6ms/step - loss: 0.1134\n",
            "Epoch 127/200\n",
            "1/1 [==============================] - 0s 6ms/step - loss: 0.1111\n",
            "Epoch 128/200\n",
            "1/1 [==============================] - 0s 8ms/step - loss: 0.1088\n",
            "Epoch 129/200\n",
            "1/1 [==============================] - 0s 8ms/step - loss: 0.1066\n",
            "Epoch 130/200\n",
            "1/1 [==============================] - 0s 6ms/step - loss: 0.1044\n",
            "Epoch 131/200\n",
            "1/1 [==============================] - 0s 12ms/step - loss: 0.1022\n",
            "Epoch 132/200\n",
            "1/1 [==============================] - 0s 8ms/step - loss: 0.1001\n",
            "Epoch 133/200\n",
            "1/1 [==============================] - 0s 8ms/step - loss: 0.0981\n",
            "Epoch 134/200\n",
            "1/1 [==============================] - 0s 6ms/step - loss: 0.0961\n",
            "Epoch 135/200\n",
            "1/1 [==============================] - 0s 6ms/step - loss: 0.0941\n",
            "Epoch 136/200\n",
            "1/1 [==============================] - 0s 13ms/step - loss: 0.0922\n",
            "Epoch 137/200\n",
            "1/1 [==============================] - 0s 5ms/step - loss: 0.0903\n",
            "Epoch 138/200\n",
            "1/1 [==============================] - 0s 5ms/step - loss: 0.0884\n",
            "Epoch 139/200\n",
            "1/1 [==============================] - 0s 5ms/step - loss: 0.0866\n",
            "Epoch 140/200\n",
            "1/1 [==============================] - 0s 9ms/step - loss: 0.0848\n",
            "Epoch 141/200\n",
            "1/1 [==============================] - 0s 6ms/step - loss: 0.0831\n",
            "Epoch 142/200\n",
            "1/1 [==============================] - 0s 5ms/step - loss: 0.0814\n",
            "Epoch 143/200\n",
            "1/1 [==============================] - 0s 7ms/step - loss: 0.0797\n",
            "Epoch 144/200\n",
            "1/1 [==============================] - 0s 11ms/step - loss: 0.0781\n",
            "Epoch 145/200\n",
            "1/1 [==============================] - 0s 6ms/step - loss: 0.0765\n",
            "Epoch 146/200\n",
            "1/1 [==============================] - 0s 6ms/step - loss: 0.0749\n",
            "Epoch 147/200\n",
            "1/1 [==============================] - 0s 8ms/step - loss: 0.0734\n",
            "Epoch 148/200\n",
            "1/1 [==============================] - 0s 8ms/step - loss: 0.0718\n",
            "Epoch 149/200\n",
            "1/1 [==============================] - 0s 5ms/step - loss: 0.0704\n",
            "Epoch 150/200\n",
            "1/1 [==============================] - 0s 9ms/step - loss: 0.0689\n",
            "Epoch 151/200\n",
            "1/1 [==============================] - 0s 5ms/step - loss: 0.0675\n",
            "Epoch 152/200\n",
            "1/1 [==============================] - 0s 5ms/step - loss: 0.0661\n",
            "Epoch 153/200\n",
            "1/1 [==============================] - 0s 6ms/step - loss: 0.0648\n",
            "Epoch 154/200\n",
            "1/1 [==============================] - 0s 8ms/step - loss: 0.0634\n",
            "Epoch 155/200\n",
            "1/1 [==============================] - 0s 6ms/step - loss: 0.0621\n",
            "Epoch 156/200\n",
            "1/1 [==============================] - 0s 6ms/step - loss: 0.0609\n",
            "Epoch 157/200\n",
            "1/1 [==============================] - 0s 9ms/step - loss: 0.0596\n",
            "Epoch 158/200\n",
            "1/1 [==============================] - 0s 6ms/step - loss: 0.0584\n",
            "Epoch 159/200\n",
            "1/1 [==============================] - 0s 6ms/step - loss: 0.0572\n",
            "Epoch 160/200\n",
            "1/1 [==============================] - 0s 6ms/step - loss: 0.0560\n",
            "Epoch 161/200\n",
            "1/1 [==============================] - 0s 9ms/step - loss: 0.0549\n",
            "Epoch 162/200\n",
            "1/1 [==============================] - 0s 5ms/step - loss: 0.0537\n",
            "Epoch 163/200\n",
            "1/1 [==============================] - 0s 5ms/step - loss: 0.0526\n",
            "Epoch 164/200\n",
            "1/1 [==============================] - 0s 6ms/step - loss: 0.0515\n",
            "Epoch 165/200\n",
            "1/1 [==============================] - 0s 9ms/step - loss: 0.0505\n",
            "Epoch 166/200\n",
            "1/1 [==============================] - 0s 5ms/step - loss: 0.0494\n",
            "Epoch 167/200\n",
            "1/1 [==============================] - 0s 5ms/step - loss: 0.0484\n",
            "Epoch 168/200\n",
            "1/1 [==============================] - 0s 6ms/step - loss: 0.0474\n",
            "Epoch 169/200\n",
            "1/1 [==============================] - 0s 12ms/step - loss: 0.0465\n",
            "Epoch 170/200\n",
            "1/1 [==============================] - 0s 5ms/step - loss: 0.0455\n",
            "Epoch 171/200\n",
            "1/1 [==============================] - 0s 5ms/step - loss: 0.0446\n",
            "Epoch 172/200\n",
            "1/1 [==============================] - 0s 5ms/step - loss: 0.0437\n",
            "Epoch 173/200\n",
            "1/1 [==============================] - 0s 6ms/step - loss: 0.0428\n",
            "Epoch 174/200\n",
            "1/1 [==============================] - 0s 6ms/step - loss: 0.0419\n",
            "Epoch 175/200\n",
            "1/1 [==============================] - 0s 5ms/step - loss: 0.0410\n",
            "Epoch 176/200\n",
            "1/1 [==============================] - 0s 11ms/step - loss: 0.0402\n",
            "Epoch 177/200\n",
            "1/1 [==============================] - 0s 5ms/step - loss: 0.0394\n",
            "Epoch 178/200\n",
            "1/1 [==============================] - 0s 5ms/step - loss: 0.0385\n",
            "Epoch 179/200\n",
            "1/1 [==============================] - 0s 5ms/step - loss: 0.0378\n",
            "Epoch 180/200\n",
            "1/1 [==============================] - 0s 6ms/step - loss: 0.0370\n",
            "Epoch 181/200\n",
            "1/1 [==============================] - 0s 5ms/step - loss: 0.0362\n",
            "Epoch 182/200\n",
            "1/1 [==============================] - 0s 6ms/step - loss: 0.0355\n",
            "Epoch 183/200\n",
            "1/1 [==============================] - 0s 9ms/step - loss: 0.0347\n",
            "Epoch 184/200\n",
            "1/1 [==============================] - 0s 5ms/step - loss: 0.0340\n",
            "Epoch 185/200\n",
            "1/1 [==============================] - 0s 5ms/step - loss: 0.0333\n",
            "Epoch 186/200\n",
            "1/1 [==============================] - 0s 5ms/step - loss: 0.0327\n",
            "Epoch 187/200\n",
            "1/1 [==============================] - 0s 6ms/step - loss: 0.0320\n",
            "Epoch 188/200\n",
            "1/1 [==============================] - 0s 13ms/step - loss: 0.0313\n",
            "Epoch 189/200\n",
            "1/1 [==============================] - 0s 8ms/step - loss: 0.0307\n",
            "Epoch 190/200\n",
            "1/1 [==============================] - 0s 8ms/step - loss: 0.0300\n",
            "Epoch 191/200\n",
            "1/1 [==============================] - 0s 8ms/step - loss: 0.0294\n",
            "Epoch 192/200\n",
            "1/1 [==============================] - 0s 11ms/step - loss: 0.0288\n",
            "Epoch 193/200\n",
            "1/1 [==============================] - 0s 5ms/step - loss: 0.0282\n",
            "Epoch 194/200\n",
            "1/1 [==============================] - 0s 6ms/step - loss: 0.0277\n",
            "Epoch 195/200\n",
            "1/1 [==============================] - 0s 8ms/step - loss: 0.0271\n",
            "Epoch 196/200\n",
            "1/1 [==============================] - 0s 10ms/step - loss: 0.0265\n",
            "Epoch 197/200\n",
            "1/1 [==============================] - 0s 5ms/step - loss: 0.0260\n",
            "Epoch 198/200\n",
            "1/1 [==============================] - 0s 5ms/step - loss: 0.0255\n",
            "Epoch 199/200\n",
            "1/1 [==============================] - 0s 5ms/step - loss: 0.0249\n",
            "Epoch 200/200\n",
            "1/1 [==============================] - 0s 5ms/step - loss: 0.0244\n"
          ]
        }
      ]
    },
    {
      "cell_type": "code",
      "source": [
        "import matplotlib.pyplot as plt\n",
        "\n",
        "# Plot the training and validation accuracy\n",
        "plt.plot(hist.history['loss'], label='Loss')\n",
        "\n",
        "# Set the title and labels\n",
        "plt.xlabel('Epoch')\n",
        "plt.ylabel('Loss')\n",
        "\n",
        "# Show the plot\n",
        "plt.legend()\n",
        "plt.show()"
      ],
      "metadata": {
        "colab": {
          "base_uri": "https://localhost:8080/",
          "height": 449
        },
        "id": "fYZ5aYPGlcsf",
        "outputId": "b39df131-86af-4df5-cf93-b835c1fa759c"
      },
      "execution_count": null,
      "outputs": [
        {
          "output_type": "display_data",
          "data": {
            "text/plain": [
              "<Figure size 640x480 with 1 Axes>"
            ],
            "image/png": "[encoded data removed]"
          },
          "metadata": {}
        }
      ]
    },
    {
      "cell_type": "markdown",
      "source": [
        "### Predict X = 10.0 and inspect learned weights\n",
        "\n",
        "We evaluate our trained model by tasking it to predict the output (Y) for input (X) = 10.0! We further observe the model parameters (weight and bias)"
      ],
      "metadata": {
        "id": "zRRmNnEEAmtZ"
      }
    },
    {
      "cell_type": "code",
      "source": [
        "print(model.predict([10.0]))\n",
        "\n",
        "print(\"Here are the parameters that the model learned: {}\".format(my_layer.get_weights()))"
      ],
      "metadata": {
        "id": "av_0eeHxAt2e",
        "colab": {
          "base_uri": "https://localhost:8080/"
        },
        "outputId": "14f1c85c-8846-4f85-fc45-53edf7c96625"
      },
      "execution_count": null,
      "outputs": [
        {
          "output_type": "stream",
          "name": "stdout",
          "text": [
            "1/1 [==============================] - 0s 84ms/step\n",
            "[[23.455902]]\n",
            "Here are the parameters that the model learned: [array([[2.0660758]], dtype=float32), array([2.7951431], dtype=float32)]\n"
          ]
        }
      ]
    },
    {
      "cell_type": "markdown",
      "source": [
        "### Save Model\n",
        "\n",
        "We save our trained model to a specified path. This is done using the `saved_model.save()` API that exports a TensorFlow model object to SavedModel format. You can read more about the API [here](https://www.tensorflow.org/api_docs/python/tf/saved_model).\n",
        "\n",
        "The saved model (.pb file) can be found on the left tab under Files/.  "
      ],
      "metadata": {
        "id": "q9QbMXDrDk5G"
      }
    },
    {
      "cell_type": "code",
      "metadata": {
        "id": "SOs_IDM6ToaM"
      },
      "source": [
        "export_dir = 'saved_TF_model/model1'\n",
        "tf.saved_model.save(model, export_dir)"
      ],
      "execution_count": null,
      "outputs": []
    },
    {
      "cell_type": "markdown",
      "source": [
        "# 2. Convert TF Model to TFLite Model\n",
        "\n",
        "We use the `tf.lite.TFLiteConverter.from_saved_model()` API to load the saved TF model and then use the `convert()` method to transform into the TFLite model. You can read more about the API [here](https://www.tensorflow.org/api_docs/python/tf/lite/TFLiteConverter)."
      ],
      "metadata": {
        "id": "CxJri4pAIDtg"
      }
    },
    {
      "cell_type": "code",
      "metadata": {
        "id": "lWSlkprhTsWE"
      },
      "source": [
        "# Convert the model.\n",
        "converter = tf.lite.TFLiteConverter.from_saved_model(export_dir)     # instantiating the converter object\n",
        "tflite_model = converter.convert()                                   # converting TF model to TF Lite model"
      ],
      "execution_count": null,
      "outputs": []
    },
    {
      "cell_type": "markdown",
      "source": [
        "### Storing TFLite model onto disk\n",
        "\n",
        "We import the following:\n",
        "\n",
        "1. [pathlib](https://docs.python.org/3/library/pathlib.html) - Object-oriented filesystem paths\n",
        "\n",
        "We write the TFLite model (model.tflite) to the disk - this file encapsulates the model and its saved weights. This is the compressed model that we deploy on edge devices!\n",
        "\n",
        "\\\n",
        "\n",
        "We first create the desired path using the `pathlib.Path()` API. We then write the contents from our converted tflite model to this path using the `tflite_model_file.write_bytes()` API. You can read more about this API [here.](https://www.tensorflow.org/lite/performance/post_training_quant)\n",
        "\n"
      ],
      "metadata": {
        "id": "6IGiHv_1K5H_"
      }
    },
    {
      "cell_type": "code",
      "metadata": {
        "id": "lsaEjJfrTujk"
      },
      "source": [
        "import pathlib\n",
        "tflite_model_file = pathlib.Path('model.tflite')"
      ],
      "execution_count": null,
      "outputs": []
    },
    {
      "cell_type": "code",
      "source": [
        "print(\"Size of TensorFlow Lite Model in bytes:\", tflite_model_file.write_bytes(tflite_model)  )   #output = no. of bytes of model"
      ],
      "metadata": {
        "id": "cuO6xgORMK_w",
        "colab": {
          "base_uri": "https://localhost:8080/"
        },
        "outputId": "7baabda9-bdf5-41b0-a689-5ae099c0a0f4"
      },
      "execution_count": null,
      "outputs": [
        {
          "output_type": "stream",
          "name": "stdout",
          "text": [
            "Size of TensorFlow Lite Model in bytes: 1092\n"
          ]
        }
      ]
    },
    {
      "cell_type": "markdown",
      "source": [
        "The `tflite_model_file.write_bytes()` API also returns the size of the model in bytes. The *model.tflite* file can be found on the left tab under File/"
      ],
      "metadata": {
        "id": "yPB7H8qlL_pk"
      }
    },
    {
      "cell_type": "markdown",
      "source": [
        "\n",
        "---\n",
        "\n",
        "\n",
        "**Question 1**: Why do we convert our TensorFlow model to a TensorFlow Lite model for edge devices?\n",
        "\n",
        "**Answer:** Because the size is too big and we need to make it smaller and therefore faster among other advantages like energy efficiency and so on.\n",
        "\n",
        "---"
      ],
      "metadata": {
        "id": "JRFYQef7imaZ"
      }
    },
    {
      "cell_type": "markdown",
      "source": [
        "### Model Inference using TensorFlow Interpreter\n",
        "\n",
        "Now that we have a TFLite model, how do we test it out without actually needing an edge device?\n",
        "\n",
        "We don't need a RPi, smartphone, or an embedded system! TensorFlow Lite provides an interface called **Interpreter** that allows us to load the TF Lite model and run inference in Python. You can read more about the TFLite Interpreter [here](https://www.tensorflow.org/api_docs/python/tf/lite/Interpreter).\n",
        "\n",
        "We use the `tf.lite.Interpreter()` API to load the tflite model to the Interpreter and we extract the input and output tensor details to run inference. The input and output details help us define important details such as the shape of our input for inference and expected output after inference. It also defines the index of the interpreter assigned for the input and output tensors.  "
      ],
      "metadata": {
        "id": "6JxcMWxvMQ0Z"
      }
    },
    {
      "cell_type": "code",
      "metadata": {
        "id": "fseX4pkhTzS0",
        "colab": {
          "base_uri": "https://localhost:8080/"
        },
        "outputId": "cebe1975-36e6-474a-fd00-efa7fc886c2d"
      },
      "source": [
        "# Load TFLite model and allocate tensors.\n",
        "interpreter = tf.lite.Interpreter(model_content=tflite_model)\n",
        "interpreter.allocate_tensors()\n",
        "\n",
        "# Get input and output tensors - to run inference\n",
        "input_details = interpreter.get_input_details()\n",
        "output_details = interpreter.get_output_details()\n",
        "print(input_details)\n",
        "print(output_details)"
      ],
      "execution_count": null,
      "outputs": [
        {
          "output_type": "stream",
          "name": "stdout",
          "text": [
            "[{'name': 'serving_default_dense_1_input:0', 'index': 0, 'shape': array([1, 1], dtype=int32), 'shape_signature': array([-1,  1], dtype=int32), 'dtype': <class 'numpy.float32'>, 'quantization': (0.0, 0), 'quantization_parameters': {'scales': array([], dtype=float32), 'zero_points': array([], dtype=int32), 'quantized_dimension': 0}, 'sparsity_parameters': {}}]\n",
            "[{'name': 'StatefulPartitionedCall:0', 'index': 3, 'shape': array([1, 1], dtype=int32), 'shape_signature': array([-1,  1], dtype=int32), 'dtype': <class 'numpy.float32'>, 'quantization': (0.0, 0), 'quantization_parameters': {'scales': array([], dtype=float32), 'zero_points': array([], dtype=int32), 'quantized_dimension': 0}, 'sparsity_parameters': {}}]\n"
          ]
        }
      ]
    },
    {
      "cell_type": "markdown",
      "source": [
        "We then format our value to be predicted (10.0) as a tensor according to how the model accepts input, run inference, and read the result on the output tensor and store it in a variable (here, tflite_results)."
      ],
      "metadata": {
        "id": "a5cq5oRA0kcH"
      }
    },
    {
      "cell_type": "code",
      "metadata": {
        "id": "k_Ij8_BvU0KV",
        "colab": {
          "base_uri": "https://localhost:8080/"
        },
        "outputId": "8c9dc94d-3e2b-4e34-cc7d-5029d1a006b9"
      },
      "source": [
        "to_predict = np.array([[10.0]], dtype=np.float32)   # based on 'shape' value in input details\n",
        "print(\"value to predict:\", to_predict)\n",
        "\n",
        "# setting the 'to_predict' value at the appropriate index location of input tensor\n",
        "interpreter.set_tensor(input_details[0]['index'], to_predict)\n",
        "\n",
        "# running inference on 'to_predict' value\n",
        "interpreter.invoke()\n",
        "\n",
        "#read the result that is stored at the appropriate index location of output tensor\n",
        "tflite_results = interpreter.get_tensor(output_details[0]['index'])\n",
        "print(\"predicted value:\", tflite_results)"
      ],
      "execution_count": null,
      "outputs": [
        {
          "output_type": "stream",
          "name": "stdout",
          "text": [
            "value to predict: [[10.]]\n",
            "predicted value: [[23.455902]]\n"
          ]
        }
      ]
    },
    {
      "cell_type": "markdown",
      "source": [
        "\n",
        "---\n",
        "\n",
        "\n",
        "**Question 2**: List any two reasons why we require the model input and output tensor details.\n",
        "\n",
        "**Answer:** It's important for pre-processing and post-processing of the data. This way, we can also ensure compatibility when deploying.\n",
        "\n",
        "---"
      ],
      "metadata": {
        "id": "KOHAR9qJnZik"
      }
    },
    {
      "cell_type": "markdown",
      "source": [
        "### Use the interepreter to predict X = 5.5\n",
        "\n",
        "In the code cell below, use the already instantiated 'Interpreter' to predict X = 5.5!"
      ],
      "metadata": {
        "id": "Mic1Py8wpH9u"
      }
    },
    {
      "cell_type": "code",
      "source": [
        "# TODO\n",
        "to_predict = np.array([[5.5]], dtype=np.float32)   # based on 'shape' value in input details\n",
        "print(\"value to predict:\", to_predict)\n",
        "\n",
        "# setting the 'to_predict' value at the appropriate index location of input tensor\n",
        "interpreter.set_tensor(input_details[0]['index'], to_predict)\n",
        "\n",
        "# running inference on 'to_predict' value\n",
        "interpreter.invoke()\n",
        "\n",
        "#read the result that is stored at the appropriate index location of output tensor\n",
        "tflite_results = interpreter.get_tensor(output_details[0]['index'])\n",
        "print(\"predicted value:\", tflite_results)\n"
      ],
      "metadata": {
        "id": "WLKbX7ECp8Ne",
        "colab": {
          "base_uri": "https://localhost:8080/"
        },
        "outputId": "052b56dc-9170-41cc-e086-1cb2ff63e427"
      },
      "execution_count": null,
      "outputs": [
        {
          "output_type": "stream",
          "name": "stdout",
          "text": [
            "value to predict: [[5.5]]\n",
            "predicted value: [[14.15856]]\n"
          ]
        }
      ]
    }
  ]
}