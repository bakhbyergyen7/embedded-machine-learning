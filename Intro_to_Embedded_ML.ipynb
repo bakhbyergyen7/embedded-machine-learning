{
  "cells": [
    {
      "cell_type": "markdown",
      "source": [
        "\n",
        "\n",
        "---\n",
        "\n",
        "\n",
        "\n",
        "Before starting, you must click on the \"Copy To Drive\" option in the top bar. Go to File --> Save a Copy to Drive. Name it *'LastName_FirstName_Assignment1.ipynb'*. <ins>This is the master notebook so you will not be able to save your changes without copying it !</ins> Once you click on that, make sure you are working on that version of the notebook so that your work is saved.\n",
        "\n",
        "\n",
        "\n",
        "---\n",
        "\n"
      ],
      "metadata": {
        "id": "-qtxDiK5ne77"
      }
    },
    {
      "cell_type": "markdown",
      "metadata": {
        "id": "aDT3sB6DrTvj"
      },
      "source": [
        "# 1. Regression using Single-Layer Neural Network\n",
        "\n",
        "In the first section of the assignment you will design your own regression model for function **Y = wX + b** using TensorFlow.\n",
        "We start by setting up the problem for you."
      ]
    },
    {
      "cell_type": "code",
      "execution_count": 94,
      "metadata": {
        "id": "eJEpdsvsGaqD"
      },
      "outputs": [],
      "source": [
        "# DO NOT CHANGE THIS CELL\n",
        "\n",
        "# We first import TensorFlow and other libraries\n",
        "import tensorflow as tf\n",
        "import numpy as np\n",
        "from tensorflow.keras import Sequential\n",
        "from tensorflow.keras.layers import Dense\n",
        "import matplotlib.pyplot as plt\n",
        "\n",
        "# We define a callback function that populates 'predictions' with predicted ys for every epoch\n",
        "predictions = []\n",
        "class myCallback(tf.keras.callbacks.Callback):\n",
        "  def on_epoch_end(self, epoch, logs={}):\n",
        "    predictions.append(model.predict(xs))\n",
        "callbacks = myCallback()\n",
        "\n",
        "# We then define the xs (inputs) and ys (outputs)\n",
        "xs = np.array([-1.0, 0.0, 1.0, 2.0, 3.0, 4.0], dtype=float)\n",
        "ys = np.array([-3.0, -1.0, 1.0, 3.0, 5.0, 7.0], dtype=float)"
      ]
    },
    {
      "cell_type": "markdown",
      "source": [
        "Let's understand the data. Plot and visualize the data (xs and ys).\n",
        "\n",
        "***Hint***: Use plt.scatter()"
      ],
      "metadata": {
        "id": "SbHmy-r3_Dw0"
      }
    },
    {
      "cell_type": "code",
      "source": [
        "# TODO: Visualize xs and ys\n",
        "plt.scatter(xs, ys)"
      ],
      "metadata": {
        "id": "k7ZQXNE8_P6v",
        "colab": {
          "base_uri": "https://localhost:8080/",
          "height": 447
        },
        "outputId": "308e9a02-0637-4e6d-8c4f-9108ec053452"
      },
      "execution_count": 95,
      "outputs": [
        {
          "output_type": "execute_result",
          "data": {
            "text/plain": [
              "<matplotlib.collections.PathCollection at 0x7b379650faf0>"
            ]
          },
          "metadata": {},
          "execution_count": 95
        },
        {
          "output_type": "display_data",
          "data": {
            "text/plain": [
              "<Figure size 640x480 with 1 Axes>"
            ],
            "image/png": "[encoded data removed]"
          },
          "metadata": {}
        }
      ]
    },
    {
      "cell_type": "markdown",
      "source": [
        "### Define Model"
      ],
      "metadata": {
        "id": "mOCE4STfwVai"
      }
    },
    {
      "cell_type": "markdown",
      "metadata": {
        "id": "j5rXyNc2rTvq"
      },
      "source": [
        "In the below cell, define your regression model - a single layer neural network with a dense layer - with appropriate shape, loss function and optimizer. You're free to choose the number of neuron units in the layer. Then compile the model."
      ]
    },
    {
      "cell_type": "code",
      "execution_count": 96,
      "metadata": {
        "id": "pzYDzdABrTvq"
      },
      "outputs": [],
      "source": [
        "# TODO - Define Model and Compile it\n",
        "my_layer = tf.keras.layers.Dense(units=1, input_shape=[1])\n",
        "model = tf.keras.Sequential([my_layer])\n",
        "OPT = 'sgd'\n",
        "LOSS = 'mean_squared_error'\n",
        "model.compile(optimizer=OPT, loss=LOSS)"
      ]
    },
    {
      "cell_type": "markdown",
      "source": [
        "### Train Model"
      ],
      "metadata": {
        "id": "JeS0r4t4wcSc"
      }
    },
    {
      "cell_type": "markdown",
      "metadata": {
        "id": "L4LwWGDhrTvr"
      },
      "source": [
        "We then fit the trained model to the training data."
      ]
    },
    {
      "cell_type": "code",
      "execution_count": 97,
      "metadata": {
        "id": "FR2pXivBrTvs",
        "colab": {
          "base_uri": "https://localhost:8080/"
        },
        "outputId": "e8a8922f-a8c2-4b2c-800b-12fe379412fa"
      },
      "outputs": [
        {
          "output_type": "stream",
          "name": "stdout",
          "text": [
            "Training!\n",
            "Epoch 1/300\n",
            "1/1 [==============================] - 0s 55ms/step\n",
            "1/1 - 0s - loss: 31.2457 - 418ms/epoch - 418ms/step\n",
            "Epoch 2/300\n",
            "1/1 [==============================] - 0s 24ms/step\n",
            "1/1 - 0s - loss: 24.9009 - 83ms/epoch - 83ms/step\n",
            "Epoch 3/300\n",
            "1/1 [==============================] - 0s 22ms/step\n",
            "1/1 - 0s - loss: 19.9026 - 86ms/epoch - 86ms/step\n",
            "Epoch 4/300\n",
            "1/1 [==============================] - 0s 22ms/step\n",
            "1/1 - 0s - loss: 15.9638 - 84ms/epoch - 84ms/step\n",
            "Epoch 5/300\n",
            "1/1 [==============================] - 0s 24ms/step\n",
            "1/1 - 0s - loss: 12.8587 - 86ms/epoch - 86ms/step\n",
            "Epoch 6/300\n",
            "1/1 [==============================] - 0s 22ms/step\n",
            "1/1 - 0s - loss: 10.4095 - 85ms/epoch - 85ms/step\n",
            "Epoch 7/300\n",
            "1/1 [==============================] - 0s 25ms/step\n",
            "1/1 - 0s - loss: 8.4767 - 106ms/epoch - 106ms/step\n",
            "Epoch 8/300\n",
            "1/1 [==============================] - 0s 28ms/step\n",
            "1/1 - 0s - loss: 6.9501 - 101ms/epoch - 101ms/step\n",
            "Epoch 9/300\n",
            "1/1 [==============================] - 0s 24ms/step\n",
            "1/1 - 0s - loss: 5.7433 - 95ms/epoch - 95ms/step\n",
            "Epoch 10/300\n",
            "1/1 [==============================] - 0s 25ms/step\n",
            "1/1 - 0s - loss: 4.7882 - 81ms/epoch - 81ms/step\n",
            "Epoch 11/300\n",
            "1/1 [==============================] - 0s 27ms/step\n",
            "1/1 - 0s - loss: 4.0312 - 98ms/epoch - 98ms/step\n",
            "Epoch 12/300\n",
            "1/1 [==============================] - 0s 22ms/step\n",
            "1/1 - 0s - loss: 3.4302 - 92ms/epoch - 92ms/step\n",
            "Epoch 13/300\n",
            "1/1 [==============================] - 0s 25ms/step\n",
            "1/1 - 0s - loss: 2.9521 - 81ms/epoch - 81ms/step\n",
            "Epoch 14/300\n",
            "1/1 [==============================] - 0s 22ms/step\n",
            "1/1 - 0s - loss: 2.5707 - 79ms/epoch - 79ms/step\n",
            "Epoch 15/300\n",
            "1/1 [==============================] - 0s 25ms/step\n",
            "1/1 - 0s - loss: 2.2655 - 88ms/epoch - 88ms/step\n",
            "Epoch 16/300\n",
            "1/1 [==============================] - 0s 25ms/step\n",
            "1/1 - 0s - loss: 2.0205 - 87ms/epoch - 87ms/step\n",
            "Epoch 17/300\n",
            "1/1 [==============================] - 0s 22ms/step\n",
            "1/1 - 0s - loss: 1.8228 - 79ms/epoch - 79ms/step\n",
            "Epoch 18/300\n",
            "1/1 [==============================] - 0s 23ms/step\n",
            "1/1 - 0s - loss: 1.6624 - 81ms/epoch - 81ms/step\n",
            "Epoch 19/300\n",
            "1/1 [==============================] - 0s 37ms/step\n",
            "1/1 - 0s - loss: 1.5316 - 108ms/epoch - 108ms/step\n",
            "Epoch 20/300\n",
            "1/1 [==============================] - 0s 41ms/step\n",
            "1/1 - 0s - loss: 1.4241 - 116ms/epoch - 116ms/step\n",
            "Epoch 21/300\n",
            "1/1 [==============================] - 0s 37ms/step\n",
            "1/1 - 0s - loss: 1.3350 - 123ms/epoch - 123ms/step\n",
            "Epoch 22/300\n",
            "1/1 [==============================] - 0s 34ms/step\n",
            "1/1 - 0s - loss: 1.2605 - 115ms/epoch - 115ms/step\n",
            "Epoch 23/300\n",
            "1/1 [==============================] - 0s 35ms/step\n",
            "1/1 - 0s - loss: 1.1976 - 104ms/epoch - 104ms/step\n",
            "Epoch 24/300\n",
            "1/1 [==============================] - 0s 33ms/step\n",
            "1/1 - 0s - loss: 1.1438 - 110ms/epoch - 110ms/step\n",
            "Epoch 25/300\n",
            "1/1 [==============================] - 0s 31ms/step\n",
            "1/1 - 0s - loss: 1.0974 - 119ms/epoch - 119ms/step\n",
            "Epoch 26/300\n",
            "1/1 [==============================] - 0s 33ms/step\n",
            "1/1 - 0s - loss: 1.0568 - 113ms/epoch - 113ms/step\n",
            "Epoch 27/300\n",
            "1/1 [==============================] - 0s 39ms/step\n",
            "1/1 - 0s - loss: 1.0209 - 131ms/epoch - 131ms/step\n",
            "Epoch 28/300\n",
            "1/1 [==============================] - 0s 39ms/step\n",
            "1/1 - 0s - loss: 0.9888 - 130ms/epoch - 130ms/step\n",
            "Epoch 29/300\n",
            "1/1 [==============================] - 0s 33ms/step\n",
            "1/1 - 0s - loss: 0.9597 - 125ms/epoch - 125ms/step\n",
            "Epoch 30/300\n",
            "1/1 [==============================] - 0s 36ms/step\n",
            "1/1 - 0s - loss: 0.9331 - 118ms/epoch - 118ms/step\n",
            "Epoch 31/300\n",
            "1/1 [==============================] - 0s 35ms/step\n",
            "1/1 - 0s - loss: 0.9085 - 110ms/epoch - 110ms/step\n",
            "Epoch 32/300\n",
            "1/1 [==============================] - 0s 36ms/step\n",
            "1/1 - 0s - loss: 0.8855 - 125ms/epoch - 125ms/step\n",
            "Epoch 33/300\n",
            "1/1 [==============================] - 0s 35ms/step\n",
            "1/1 - 0s - loss: 0.8640 - 122ms/epoch - 122ms/step\n",
            "Epoch 34/300\n",
            "1/1 [==============================] - 0s 40ms/step\n",
            "1/1 - 0s - loss: 0.8436 - 128ms/epoch - 128ms/step\n",
            "Epoch 35/300\n",
            "1/1 [==============================] - 0s 33ms/step\n",
            "1/1 - 0s - loss: 0.8242 - 116ms/epoch - 116ms/step\n",
            "Epoch 36/300\n",
            "1/1 [==============================] - 0s 51ms/step\n",
            "1/1 - 0s - loss: 0.8056 - 147ms/epoch - 147ms/step\n",
            "Epoch 37/300\n",
            "1/1 [==============================] - 0s 35ms/step\n",
            "1/1 - 0s - loss: 0.7878 - 127ms/epoch - 127ms/step\n",
            "Epoch 38/300\n",
            "1/1 [==============================] - 0s 36ms/step\n",
            "1/1 - 0s - loss: 0.7706 - 123ms/epoch - 123ms/step\n",
            "Epoch 39/300\n",
            "1/1 [==============================] - 0s 33ms/step\n",
            "1/1 - 0s - loss: 0.7539 - 107ms/epoch - 107ms/step\n",
            "Epoch 40/300\n",
            "1/1 [==============================] - 0s 37ms/step\n",
            "1/1 - 0s - loss: 0.7378 - 121ms/epoch - 121ms/step\n",
            "Epoch 41/300\n",
            "1/1 [==============================] - 0s 35ms/step\n",
            "1/1 - 0s - loss: 0.7222 - 131ms/epoch - 131ms/step\n",
            "Epoch 42/300\n",
            "1/1 [==============================] - 0s 23ms/step\n",
            "1/1 - 0s - loss: 0.7070 - 83ms/epoch - 83ms/step\n",
            "Epoch 43/300\n",
            "1/1 [==============================] - 0s 22ms/step\n",
            "1/1 - 0s - loss: 0.6921 - 73ms/epoch - 73ms/step\n",
            "Epoch 44/300\n",
            "1/1 [==============================] - 0s 24ms/step\n",
            "1/1 - 0s - loss: 0.6777 - 90ms/epoch - 90ms/step\n",
            "Epoch 45/300\n",
            "1/1 [==============================] - 0s 24ms/step\n",
            "1/1 - 0s - loss: 0.6636 - 80ms/epoch - 80ms/step\n",
            "Epoch 46/300\n",
            "1/1 [==============================] - 0s 29ms/step\n",
            "1/1 - 0s - loss: 0.6498 - 93ms/epoch - 93ms/step\n",
            "Epoch 47/300\n",
            "1/1 [==============================] - 0s 24ms/step\n",
            "1/1 - 0s - loss: 0.6363 - 75ms/epoch - 75ms/step\n",
            "Epoch 48/300\n",
            "1/1 [==============================] - 0s 24ms/step\n",
            "1/1 - 0s - loss: 0.6232 - 83ms/epoch - 83ms/step\n",
            "Epoch 49/300\n",
            "1/1 [==============================] - 0s 21ms/step\n",
            "1/1 - 0s - loss: 0.6103 - 77ms/epoch - 77ms/step\n",
            "Epoch 50/300\n",
            "1/1 [==============================] - 0s 23ms/step\n",
            "1/1 - 0s - loss: 0.5977 - 81ms/epoch - 81ms/step\n",
            "Epoch 51/300\n",
            "1/1 [==============================] - 0s 21ms/step\n",
            "1/1 - 0s - loss: 0.5854 - 77ms/epoch - 77ms/step\n",
            "Epoch 52/300\n",
            "1/1 [==============================] - 0s 24ms/step\n",
            "1/1 - 0s - loss: 0.5733 - 90ms/epoch - 90ms/step\n",
            "Epoch 53/300\n",
            "1/1 [==============================] - 0s 24ms/step\n",
            "1/1 - 0s - loss: 0.5615 - 91ms/epoch - 91ms/step\n",
            "Epoch 54/300\n",
            "1/1 [==============================] - 0s 22ms/step\n",
            "1/1 - 0s - loss: 0.5499 - 79ms/epoch - 79ms/step\n",
            "Epoch 55/300\n",
            "1/1 [==============================] - 0s 28ms/step\n",
            "1/1 - 0s - loss: 0.5386 - 83ms/epoch - 83ms/step\n",
            "Epoch 56/300\n",
            "1/1 [==============================] - 0s 24ms/step\n",
            "1/1 - 0s - loss: 0.5276 - 86ms/epoch - 86ms/step\n",
            "Epoch 57/300\n",
            "1/1 [==============================] - 0s 22ms/step\n",
            "1/1 - 0s - loss: 0.5167 - 86ms/epoch - 86ms/step\n",
            "Epoch 58/300\n",
            "1/1 [==============================] - 0s 22ms/step\n",
            "1/1 - 0s - loss: 0.5061 - 91ms/epoch - 91ms/step\n",
            "Epoch 59/300\n",
            "1/1 [==============================] - 0s 24ms/step\n",
            "1/1 - 0s - loss: 0.4957 - 84ms/epoch - 84ms/step\n",
            "Epoch 60/300\n",
            "1/1 [==============================] - 0s 23ms/step\n",
            "1/1 - 0s - loss: 0.4855 - 97ms/epoch - 97ms/step\n",
            "Epoch 61/300\n",
            "1/1 [==============================] - 0s 26ms/step\n",
            "1/1 - 0s - loss: 0.4755 - 83ms/epoch - 83ms/step\n",
            "Epoch 62/300\n",
            "1/1 [==============================] - 0s 29ms/step\n",
            "1/1 - 0s - loss: 0.4658 - 91ms/epoch - 91ms/step\n",
            "Epoch 63/300\n",
            "1/1 [==============================] - 0s 25ms/step\n",
            "1/1 - 0s - loss: 0.4562 - 83ms/epoch - 83ms/step\n",
            "Epoch 64/300\n",
            "1/1 [==============================] - 0s 22ms/step\n",
            "1/1 - 0s - loss: 0.4468 - 81ms/epoch - 81ms/step\n",
            "Epoch 65/300\n",
            "1/1 [==============================] - 0s 27ms/step\n",
            "1/1 - 0s - loss: 0.4376 - 81ms/epoch - 81ms/step\n",
            "Epoch 66/300\n",
            "1/1 [==============================] - 0s 22ms/step\n",
            "1/1 - 0s - loss: 0.4286 - 81ms/epoch - 81ms/step\n",
            "Epoch 67/300\n",
            "1/1 [==============================] - 0s 23ms/step\n",
            "1/1 - 0s - loss: 0.4198 - 84ms/epoch - 84ms/step\n",
            "Epoch 68/300\n",
            "1/1 [==============================] - 0s 32ms/step\n",
            "1/1 - 0s - loss: 0.4112 - 94ms/epoch - 94ms/step\n",
            "Epoch 69/300\n",
            "1/1 [==============================] - 0s 30ms/step\n",
            "1/1 - 0s - loss: 0.4028 - 97ms/epoch - 97ms/step\n",
            "Epoch 70/300\n",
            "1/1 [==============================] - 0s 25ms/step\n",
            "1/1 - 0s - loss: 0.3945 - 80ms/epoch - 80ms/step\n",
            "Epoch 71/300\n",
            "1/1 [==============================] - 0s 28ms/step\n",
            "1/1 - 0s - loss: 0.3864 - 97ms/epoch - 97ms/step\n",
            "Epoch 72/300\n",
            "1/1 [==============================] - 0s 24ms/step\n",
            "1/1 - 0s - loss: 0.3784 - 76ms/epoch - 76ms/step\n",
            "Epoch 73/300\n",
            "1/1 [==============================] - 0s 27ms/step\n",
            "1/1 - 0s - loss: 0.3707 - 89ms/epoch - 89ms/step\n",
            "Epoch 74/300\n",
            "1/1 [==============================] - 0s 25ms/step\n",
            "1/1 - 0s - loss: 0.3631 - 79ms/epoch - 79ms/step\n",
            "Epoch 75/300\n",
            "1/1 [==============================] - 0s 22ms/step\n",
            "1/1 - 0s - loss: 0.3556 - 79ms/epoch - 79ms/step\n",
            "Epoch 76/300\n",
            "1/1 [==============================] - 0s 25ms/step\n",
            "1/1 - 0s - loss: 0.3483 - 102ms/epoch - 102ms/step\n",
            "Epoch 77/300\n",
            "1/1 [==============================] - 0s 26ms/step\n",
            "1/1 - 0s - loss: 0.3411 - 90ms/epoch - 90ms/step\n",
            "Epoch 78/300\n",
            "1/1 [==============================] - 0s 25ms/step\n",
            "1/1 - 0s - loss: 0.3341 - 78ms/epoch - 78ms/step\n",
            "Epoch 79/300\n",
            "1/1 [==============================] - 0s 26ms/step\n",
            "1/1 - 0s - loss: 0.3273 - 86ms/epoch - 86ms/step\n",
            "Epoch 80/300\n",
            "1/1 [==============================] - 0s 27ms/step\n",
            "1/1 - 0s - loss: 0.3206 - 96ms/epoch - 96ms/step\n",
            "Epoch 81/300\n",
            "1/1 [==============================] - 0s 26ms/step\n",
            "1/1 - 0s - loss: 0.3140 - 97ms/epoch - 97ms/step\n",
            "Epoch 82/300\n",
            "1/1 [==============================] - 0s 24ms/step\n",
            "1/1 - 0s - loss: 0.3075 - 81ms/epoch - 81ms/step\n",
            "Epoch 83/300\n",
            "1/1 [==============================] - 0s 23ms/step\n",
            "1/1 - 0s - loss: 0.3012 - 85ms/epoch - 85ms/step\n",
            "Epoch 84/300\n",
            "1/1 [==============================] - 0s 24ms/step\n",
            "1/1 - 0s - loss: 0.2950 - 92ms/epoch - 92ms/step\n",
            "Epoch 85/300\n",
            "1/1 [==============================] - 0s 23ms/step\n",
            "1/1 - 0s - loss: 0.2890 - 85ms/epoch - 85ms/step\n",
            "Epoch 86/300\n",
            "1/1 [==============================] - 0s 24ms/step\n",
            "1/1 - 0s - loss: 0.2830 - 96ms/epoch - 96ms/step\n",
            "Epoch 87/300\n",
            "1/1 [==============================] - 0s 23ms/step\n",
            "1/1 - 0s - loss: 0.2772 - 94ms/epoch - 94ms/step\n",
            "Epoch 88/300\n",
            "1/1 [==============================] - 0s 24ms/step\n",
            "1/1 - 0s - loss: 0.2715 - 81ms/epoch - 81ms/step\n",
            "Epoch 89/300\n",
            "1/1 [==============================] - 0s 22ms/step\n",
            "1/1 - 0s - loss: 0.2659 - 80ms/epoch - 80ms/step\n",
            "Epoch 90/300\n",
            "1/1 [==============================] - 0s 21ms/step\n",
            "1/1 - 0s - loss: 0.2605 - 84ms/epoch - 84ms/step\n",
            "Epoch 91/300\n",
            "1/1 [==============================] - 0s 23ms/step\n",
            "1/1 - 0s - loss: 0.2551 - 90ms/epoch - 90ms/step\n",
            "Epoch 92/300\n",
            "1/1 [==============================] - 0s 25ms/step\n",
            "1/1 - 0s - loss: 0.2499 - 106ms/epoch - 106ms/step\n",
            "Epoch 93/300\n",
            "1/1 [==============================] - 0s 23ms/step\n",
            "1/1 - 0s - loss: 0.2447 - 89ms/epoch - 89ms/step\n",
            "Epoch 94/300\n",
            "1/1 [==============================] - 0s 29ms/step\n",
            "1/1 - 0s - loss: 0.2397 - 84ms/epoch - 84ms/step\n",
            "Epoch 95/300\n",
            "1/1 [==============================] - 0s 22ms/step\n",
            "1/1 - 0s - loss: 0.2348 - 80ms/epoch - 80ms/step\n",
            "Epoch 96/300\n",
            "1/1 [==============================] - 0s 25ms/step\n",
            "1/1 - 0s - loss: 0.2300 - 86ms/epoch - 86ms/step\n",
            "Epoch 97/300\n",
            "1/1 [==============================] - 0s 27ms/step\n",
            "1/1 - 0s - loss: 0.2253 - 96ms/epoch - 96ms/step\n",
            "Epoch 98/300\n",
            "1/1 [==============================] - 0s 23ms/step\n",
            "1/1 - 0s - loss: 0.2206 - 80ms/epoch - 80ms/step\n",
            "Epoch 99/300\n",
            "1/1 [==============================] - 0s 22ms/step\n",
            "1/1 - 0s - loss: 0.2161 - 80ms/epoch - 80ms/step\n",
            "Epoch 100/300\n",
            "1/1 [==============================] - 0s 26ms/step\n",
            "1/1 - 0s - loss: 0.2117 - 92ms/epoch - 92ms/step\n",
            "Epoch 101/300\n",
            "1/1 [==============================] - 0s 24ms/step\n",
            "1/1 - 0s - loss: 0.2073 - 85ms/epoch - 85ms/step\n",
            "Epoch 102/300\n",
            "1/1 [==============================] - 0s 24ms/step\n",
            "1/1 - 0s - loss: 0.2030 - 89ms/epoch - 89ms/step\n",
            "Epoch 103/300\n",
            "1/1 [==============================] - 0s 25ms/step\n",
            "1/1 - 0s - loss: 0.1989 - 103ms/epoch - 103ms/step\n",
            "Epoch 104/300\n",
            "1/1 [==============================] - 0s 25ms/step\n",
            "1/1 - 0s - loss: 0.1948 - 88ms/epoch - 88ms/step\n",
            "Epoch 105/300\n",
            "1/1 [==============================] - 0s 24ms/step\n",
            "1/1 - 0s - loss: 0.1908 - 82ms/epoch - 82ms/step\n",
            "Epoch 106/300\n",
            "1/1 [==============================] - 0s 23ms/step\n",
            "1/1 - 0s - loss: 0.1869 - 88ms/epoch - 88ms/step\n",
            "Epoch 107/300\n",
            "1/1 [==============================] - 0s 25ms/step\n",
            "1/1 - 0s - loss: 0.1830 - 87ms/epoch - 87ms/step\n",
            "Epoch 108/300\n",
            "1/1 [==============================] - 0s 41ms/step\n",
            "1/1 - 0s - loss: 0.1793 - 108ms/epoch - 108ms/step\n",
            "Epoch 109/300\n",
            "1/1 [==============================] - 0s 29ms/step\n",
            "1/1 - 0s - loss: 0.1756 - 97ms/epoch - 97ms/step\n",
            "Epoch 110/300\n",
            "1/1 [==============================] - 0s 25ms/step\n",
            "1/1 - 0s - loss: 0.1720 - 86ms/epoch - 86ms/step\n",
            "Epoch 111/300\n",
            "1/1 [==============================] - 0s 26ms/step\n",
            "1/1 - 0s - loss: 0.1685 - 91ms/epoch - 91ms/step\n",
            "Epoch 112/300\n",
            "1/1 [==============================] - 0s 27ms/step\n",
            "1/1 - 0s - loss: 0.1650 - 83ms/epoch - 83ms/step\n",
            "Epoch 113/300\n",
            "1/1 [==============================] - 0s 31ms/step\n",
            "1/1 - 0s - loss: 0.1616 - 99ms/epoch - 99ms/step\n",
            "Epoch 114/300\n",
            "1/1 [==============================] - 0s 25ms/step\n",
            "1/1 - 0s - loss: 0.1583 - 103ms/epoch - 103ms/step\n",
            "Epoch 115/300\n",
            "1/1 [==============================] - 0s 25ms/step\n",
            "1/1 - 0s - loss: 0.1550 - 96ms/epoch - 96ms/step\n",
            "Epoch 116/300\n",
            "1/1 [==============================] - 0s 27ms/step\n",
            "1/1 - 0s - loss: 0.1518 - 101ms/epoch - 101ms/step\n",
            "Epoch 117/300\n",
            "1/1 [==============================] - 0s 26ms/step\n",
            "1/1 - 0s - loss: 0.1487 - 102ms/epoch - 102ms/step\n",
            "Epoch 118/300\n",
            "1/1 [==============================] - 0s 40ms/step\n",
            "1/1 - 0s - loss: 0.1457 - 115ms/epoch - 115ms/step\n",
            "Epoch 119/300\n",
            "1/1 [==============================] - 0s 24ms/step\n",
            "1/1 - 0s - loss: 0.1427 - 97ms/epoch - 97ms/step\n",
            "Epoch 120/300\n",
            "1/1 [==============================] - 0s 24ms/step\n",
            "1/1 - 0s - loss: 0.1398 - 89ms/epoch - 89ms/step\n",
            "Epoch 121/300\n",
            "1/1 [==============================] - 0s 26ms/step\n",
            "1/1 - 0s - loss: 0.1369 - 96ms/epoch - 96ms/step\n",
            "Epoch 122/300\n",
            "1/1 [==============================] - 0s 21ms/step\n",
            "1/1 - 0s - loss: 0.1341 - 80ms/epoch - 80ms/step\n",
            "Epoch 123/300\n",
            "1/1 [==============================] - 0s 27ms/step\n",
            "1/1 - 0s - loss: 0.1313 - 104ms/epoch - 104ms/step\n",
            "Epoch 124/300\n",
            "1/1 [==============================] - 0s 24ms/step\n",
            "1/1 - 0s - loss: 0.1286 - 89ms/epoch - 89ms/step\n",
            "Epoch 125/300\n",
            "1/1 [==============================] - 0s 30ms/step\n",
            "1/1 - 0s - loss: 0.1260 - 100ms/epoch - 100ms/step\n",
            "Epoch 126/300\n",
            "1/1 [==============================] - 0s 24ms/step\n",
            "1/1 - 0s - loss: 0.1234 - 91ms/epoch - 91ms/step\n",
            "Epoch 127/300\n",
            "1/1 [==============================] - 0s 28ms/step\n",
            "1/1 - 0s - loss: 0.1209 - 115ms/epoch - 115ms/step\n",
            "Epoch 128/300\n",
            "1/1 [==============================] - 0s 27ms/step\n",
            "1/1 - 0s - loss: 0.1184 - 105ms/epoch - 105ms/step\n",
            "Epoch 129/300\n",
            "1/1 [==============================] - 0s 23ms/step\n",
            "1/1 - 0s - loss: 0.1159 - 88ms/epoch - 88ms/step\n",
            "Epoch 130/300\n",
            "1/1 [==============================] - 0s 23ms/step\n",
            "1/1 - 0s - loss: 0.1136 - 82ms/epoch - 82ms/step\n",
            "Epoch 131/300\n",
            "1/1 [==============================] - 0s 25ms/step\n",
            "1/1 - 0s - loss: 0.1112 - 95ms/epoch - 95ms/step\n",
            "Epoch 132/300\n",
            "1/1 [==============================] - 0s 25ms/step\n",
            "1/1 - 0s - loss: 0.1089 - 84ms/epoch - 84ms/step\n",
            "Epoch 133/300\n",
            "1/1 [==============================] - 0s 23ms/step\n",
            "1/1 - 0s - loss: 0.1067 - 106ms/epoch - 106ms/step\n",
            "Epoch 134/300\n",
            "1/1 [==============================] - 0s 31ms/step\n",
            "1/1 - 0s - loss: 0.1045 - 112ms/epoch - 112ms/step\n",
            "Epoch 135/300\n",
            "1/1 [==============================] - 0s 21ms/step\n",
            "1/1 - 0s - loss: 0.1024 - 81ms/epoch - 81ms/step\n",
            "Epoch 136/300\n",
            "1/1 [==============================] - 0s 24ms/step\n",
            "1/1 - 0s - loss: 0.1003 - 91ms/epoch - 91ms/step\n",
            "Epoch 137/300\n",
            "1/1 [==============================] - 0s 24ms/step\n",
            "1/1 - 0s - loss: 0.0982 - 89ms/epoch - 89ms/step\n",
            "Epoch 138/300\n",
            "1/1 [==============================] - 0s 25ms/step\n",
            "1/1 - 0s - loss: 0.0962 - 86ms/epoch - 86ms/step\n",
            "Epoch 139/300\n",
            "1/1 [==============================] - 0s 24ms/step\n",
            "1/1 - 0s - loss: 0.0942 - 92ms/epoch - 92ms/step\n",
            "Epoch 140/300\n",
            "1/1 [==============================] - 0s 23ms/step\n",
            "1/1 - 0s - loss: 0.0923 - 89ms/epoch - 89ms/step\n",
            "Epoch 141/300\n",
            "1/1 [==============================] - 0s 30ms/step\n",
            "1/1 - 0s - loss: 0.0904 - 108ms/epoch - 108ms/step\n",
            "Epoch 142/300\n",
            "1/1 [==============================] - 0s 24ms/step\n",
            "1/1 - 0s - loss: 0.0885 - 86ms/epoch - 86ms/step\n",
            "Epoch 143/300\n",
            "1/1 [==============================] - 0s 22ms/step\n",
            "1/1 - 0s - loss: 0.0867 - 84ms/epoch - 84ms/step\n",
            "Epoch 144/300\n",
            "1/1 [==============================] - 0s 30ms/step\n",
            "1/1 - 0s - loss: 0.0849 - 98ms/epoch - 98ms/step\n",
            "Epoch 145/300\n",
            "1/1 [==============================] - 0s 30ms/step\n",
            "1/1 - 0s - loss: 0.0832 - 95ms/epoch - 95ms/step\n",
            "Epoch 146/300\n",
            "1/1 [==============================] - 0s 23ms/step\n",
            "1/1 - 0s - loss: 0.0815 - 85ms/epoch - 85ms/step\n",
            "Epoch 147/300\n",
            "1/1 [==============================] - 0s 24ms/step\n",
            "1/1 - 0s - loss: 0.0798 - 93ms/epoch - 93ms/step\n",
            "Epoch 148/300\n",
            "1/1 [==============================] - 0s 21ms/step\n",
            "1/1 - 0s - loss: 0.0782 - 101ms/epoch - 101ms/step\n",
            "Epoch 149/300\n",
            "1/1 [==============================] - 0s 39ms/step\n",
            "1/1 - 0s - loss: 0.0766 - 136ms/epoch - 136ms/step\n",
            "Epoch 150/300\n",
            "1/1 [==============================] - 0s 37ms/step\n",
            "1/1 - 0s - loss: 0.0750 - 132ms/epoch - 132ms/step\n",
            "Epoch 151/300\n",
            "1/1 [==============================] - 0s 43ms/step\n",
            "1/1 - 0s - loss: 0.0734 - 123ms/epoch - 123ms/step\n",
            "Epoch 152/300\n",
            "1/1 [==============================] - 0s 33ms/step\n",
            "1/1 - 0s - loss: 0.0719 - 119ms/epoch - 119ms/step\n",
            "Epoch 153/300\n",
            "1/1 [==============================] - 0s 47ms/step\n",
            "1/1 - 0s - loss: 0.0705 - 132ms/epoch - 132ms/step\n",
            "Epoch 154/300\n",
            "1/1 [==============================] - 0s 32ms/step\n",
            "1/1 - 0s - loss: 0.0690 - 122ms/epoch - 122ms/step\n",
            "Epoch 155/300\n",
            "1/1 [==============================] - 0s 37ms/step\n",
            "1/1 - 0s - loss: 0.0676 - 128ms/epoch - 128ms/step\n",
            "Epoch 156/300\n",
            "1/1 [==============================] - 0s 36ms/step\n",
            "1/1 - 0s - loss: 0.0662 - 122ms/epoch - 122ms/step\n",
            "Epoch 157/300\n",
            "1/1 [==============================] - 0s 48ms/step\n",
            "1/1 - 0s - loss: 0.0648 - 135ms/epoch - 135ms/step\n",
            "Epoch 158/300\n",
            "1/1 [==============================] - 0s 37ms/step\n",
            "1/1 - 0s - loss: 0.0635 - 126ms/epoch - 126ms/step\n",
            "Epoch 159/300\n",
            "1/1 [==============================] - 0s 39ms/step\n",
            "1/1 - 0s - loss: 0.0622 - 128ms/epoch - 128ms/step\n",
            "Epoch 160/300\n",
            "1/1 [==============================] - 0s 39ms/step\n",
            "1/1 - 0s - loss: 0.0609 - 143ms/epoch - 143ms/step\n",
            "Epoch 161/300\n",
            "1/1 [==============================] - 0s 42ms/step\n",
            "1/1 - 0s - loss: 0.0597 - 131ms/epoch - 131ms/step\n",
            "Epoch 162/300\n",
            "1/1 [==============================] - 0s 41ms/step\n",
            "1/1 - 0s - loss: 0.0585 - 149ms/epoch - 149ms/step\n",
            "Epoch 163/300\n",
            "1/1 [==============================] - 0s 34ms/step\n",
            "1/1 - 0s - loss: 0.0572 - 132ms/epoch - 132ms/step\n",
            "Epoch 164/300\n",
            "1/1 [==============================] - 0s 36ms/step\n",
            "1/1 - 0s - loss: 0.0561 - 121ms/epoch - 121ms/step\n",
            "Epoch 165/300\n",
            "1/1 [==============================] - 0s 39ms/step\n",
            "1/1 - 0s - loss: 0.0549 - 148ms/epoch - 148ms/step\n",
            "Epoch 166/300\n",
            "1/1 [==============================] - 0s 42ms/step\n",
            "1/1 - 0s - loss: 0.0538 - 122ms/epoch - 122ms/step\n",
            "Epoch 167/300\n",
            "1/1 [==============================] - 0s 36ms/step\n",
            "1/1 - 0s - loss: 0.0527 - 136ms/epoch - 136ms/step\n",
            "Epoch 168/300\n",
            "1/1 [==============================] - 0s 53ms/step\n",
            "1/1 - 0s - loss: 0.0516 - 139ms/epoch - 139ms/step\n",
            "Epoch 169/300\n",
            "1/1 [==============================] - 0s 39ms/step\n",
            "1/1 - 0s - loss: 0.0505 - 116ms/epoch - 116ms/step\n",
            "Epoch 170/300\n",
            "1/1 [==============================] - 0s 23ms/step\n",
            "1/1 - 0s - loss: 0.0495 - 86ms/epoch - 86ms/step\n",
            "Epoch 171/300\n",
            "1/1 [==============================] - 0s 24ms/step\n",
            "1/1 - 0s - loss: 0.0485 - 89ms/epoch - 89ms/step\n",
            "Epoch 172/300\n",
            "1/1 [==============================] - 0s 26ms/step\n",
            "1/1 - 0s - loss: 0.0475 - 86ms/epoch - 86ms/step\n",
            "Epoch 173/300\n",
            "1/1 [==============================] - 0s 26ms/step\n",
            "1/1 - 0s - loss: 0.0465 - 99ms/epoch - 99ms/step\n",
            "Epoch 174/300\n",
            "1/1 [==============================] - 0s 23ms/step\n",
            "1/1 - 0s - loss: 0.0456 - 88ms/epoch - 88ms/step\n",
            "Epoch 175/300\n",
            "1/1 [==============================] - 0s 22ms/step\n",
            "1/1 - 0s - loss: 0.0446 - 85ms/epoch - 85ms/step\n",
            "Epoch 176/300\n",
            "1/1 [==============================] - 0s 29ms/step\n",
            "1/1 - 0s - loss: 0.0437 - 90ms/epoch - 90ms/step\n",
            "Epoch 177/300\n",
            "1/1 [==============================] - 0s 24ms/step\n",
            "1/1 - 0s - loss: 0.0428 - 90ms/epoch - 90ms/step\n",
            "Epoch 178/300\n",
            "1/1 [==============================] - 0s 26ms/step\n",
            "1/1 - 0s - loss: 0.0419 - 112ms/epoch - 112ms/step\n",
            "Epoch 179/300\n",
            "1/1 [==============================] - 0s 26ms/step\n",
            "1/1 - 0s - loss: 0.0411 - 85ms/epoch - 85ms/step\n",
            "Epoch 180/300\n",
            "1/1 [==============================] - 0s 30ms/step\n",
            "1/1 - 0s - loss: 0.0402 - 98ms/epoch - 98ms/step\n",
            "Epoch 181/300\n",
            "1/1 [==============================] - 0s 25ms/step\n",
            "1/1 - 0s - loss: 0.0394 - 106ms/epoch - 106ms/step\n",
            "Epoch 182/300\n",
            "1/1 [==============================] - 0s 23ms/step\n",
            "1/1 - 0s - loss: 0.0386 - 89ms/epoch - 89ms/step\n",
            "Epoch 183/300\n",
            "1/1 [==============================] - 0s 23ms/step\n",
            "1/1 - 0s - loss: 0.0378 - 85ms/epoch - 85ms/step\n",
            "Epoch 184/300\n",
            "1/1 [==============================] - 0s 24ms/step\n",
            "1/1 - 0s - loss: 0.0370 - 88ms/epoch - 88ms/step\n",
            "Epoch 185/300\n",
            "1/1 [==============================] - 0s 27ms/step\n",
            "1/1 - 0s - loss: 0.0363 - 104ms/epoch - 104ms/step\n",
            "Epoch 186/300\n",
            "1/1 [==============================] - 0s 25ms/step\n",
            "1/1 - 0s - loss: 0.0355 - 81ms/epoch - 81ms/step\n",
            "Epoch 187/300\n",
            "1/1 [==============================] - 0s 23ms/step\n",
            "1/1 - 0s - loss: 0.0348 - 90ms/epoch - 90ms/step\n",
            "Epoch 188/300\n",
            "1/1 [==============================] - 0s 30ms/step\n",
            "1/1 - 0s - loss: 0.0341 - 96ms/epoch - 96ms/step\n",
            "Epoch 189/300\n",
            "1/1 [==============================] - 0s 23ms/step\n",
            "1/1 - 0s - loss: 0.0334 - 89ms/epoch - 89ms/step\n",
            "Epoch 190/300\n",
            "1/1 [==============================] - 0s 27ms/step\n",
            "1/1 - 0s - loss: 0.0327 - 88ms/epoch - 88ms/step\n",
            "Epoch 191/300\n",
            "1/1 [==============================] - 0s 23ms/step\n",
            "1/1 - 0s - loss: 0.0320 - 94ms/epoch - 94ms/step\n",
            "Epoch 192/300\n",
            "1/1 [==============================] - 0s 22ms/step\n",
            "1/1 - 0s - loss: 0.0314 - 83ms/epoch - 83ms/step\n",
            "Epoch 193/300\n",
            "1/1 [==============================] - 0s 22ms/step\n",
            "1/1 - 0s - loss: 0.0307 - 87ms/epoch - 87ms/step\n",
            "Epoch 194/300\n",
            "1/1 [==============================] - 0s 28ms/step\n",
            "1/1 - 0s - loss: 0.0301 - 83ms/epoch - 83ms/step\n",
            "Epoch 195/300\n",
            "1/1 [==============================] - 0s 30ms/step\n",
            "1/1 - 0s - loss: 0.0295 - 98ms/epoch - 98ms/step\n",
            "Epoch 196/300\n",
            "1/1 [==============================] - 0s 22ms/step\n",
            "1/1 - 0s - loss: 0.0289 - 93ms/epoch - 93ms/step\n",
            "Epoch 197/300\n",
            "1/1 [==============================] - 0s 25ms/step\n",
            "1/1 - 0s - loss: 0.0283 - 95ms/epoch - 95ms/step\n",
            "Epoch 198/300\n",
            "1/1 [==============================] - 0s 28ms/step\n",
            "1/1 - 0s - loss: 0.0277 - 90ms/epoch - 90ms/step\n",
            "Epoch 199/300\n",
            "1/1 [==============================] - 0s 22ms/step\n",
            "1/1 - 0s - loss: 0.0271 - 95ms/epoch - 95ms/step\n",
            "Epoch 200/300\n",
            "1/1 [==============================] - 0s 22ms/step\n",
            "1/1 - 0s - loss: 0.0266 - 84ms/epoch - 84ms/step\n",
            "Epoch 201/300\n",
            "1/1 [==============================] - 0s 23ms/step\n",
            "1/1 - 0s - loss: 0.0260 - 81ms/epoch - 81ms/step\n",
            "Epoch 202/300\n",
            "1/1 [==============================] - 0s 23ms/step\n",
            "1/1 - 0s - loss: 0.0255 - 94ms/epoch - 94ms/step\n",
            "Epoch 203/300\n",
            "1/1 [==============================] - 0s 23ms/step\n",
            "1/1 - 0s - loss: 0.0250 - 89ms/epoch - 89ms/step\n",
            "Epoch 204/300\n",
            "1/1 [==============================] - 0s 22ms/step\n",
            "1/1 - 0s - loss: 0.0244 - 83ms/epoch - 83ms/step\n",
            "Epoch 205/300\n",
            "1/1 [==============================] - 0s 28ms/step\n",
            "1/1 - 0s - loss: 0.0239 - 90ms/epoch - 90ms/step\n",
            "Epoch 206/300\n",
            "1/1 [==============================] - 0s 24ms/step\n",
            "1/1 - 0s - loss: 0.0235 - 90ms/epoch - 90ms/step\n",
            "Epoch 207/300\n",
            "1/1 [==============================] - 0s 23ms/step\n",
            "1/1 - 0s - loss: 0.0230 - 84ms/epoch - 84ms/step\n",
            "Epoch 208/300\n",
            "1/1 [==============================] - 0s 24ms/step\n",
            "1/1 - 0s - loss: 0.0225 - 92ms/epoch - 92ms/step\n",
            "Epoch 209/300\n",
            "1/1 [==============================] - 0s 25ms/step\n",
            "1/1 - 0s - loss: 0.0220 - 81ms/epoch - 81ms/step\n",
            "Epoch 210/300\n",
            "1/1 [==============================] - 0s 25ms/step\n",
            "1/1 - 0s - loss: 0.0216 - 81ms/epoch - 81ms/step\n",
            "Epoch 211/300\n",
            "1/1 [==============================] - 0s 31ms/step\n",
            "1/1 - 0s - loss: 0.0211 - 96ms/epoch - 96ms/step\n",
            "Epoch 212/300\n",
            "1/1 [==============================] - 0s 26ms/step\n",
            "1/1 - 0s - loss: 0.0207 - 101ms/epoch - 101ms/step\n",
            "Epoch 213/300\n",
            "1/1 [==============================] - 0s 26ms/step\n",
            "1/1 - 0s - loss: 0.0203 - 101ms/epoch - 101ms/step\n",
            "Epoch 214/300\n",
            "1/1 [==============================] - 0s 30ms/step\n",
            "1/1 - 0s - loss: 0.0199 - 99ms/epoch - 99ms/step\n",
            "Epoch 215/300\n",
            "1/1 [==============================] - 0s 29ms/step\n",
            "1/1 - 0s - loss: 0.0195 - 94ms/epoch - 94ms/step\n",
            "Epoch 216/300\n",
            "1/1 [==============================] - 0s 27ms/step\n",
            "1/1 - 0s - loss: 0.0191 - 96ms/epoch - 96ms/step\n",
            "Epoch 217/300\n",
            "1/1 [==============================] - 0s 22ms/step\n",
            "1/1 - 0s - loss: 0.0187 - 93ms/epoch - 93ms/step\n",
            "Epoch 218/300\n",
            "1/1 [==============================] - 0s 22ms/step\n",
            "1/1 - 0s - loss: 0.0183 - 77ms/epoch - 77ms/step\n",
            "Epoch 219/300\n",
            "1/1 [==============================] - 0s 23ms/step\n",
            "1/1 - 0s - loss: 0.0179 - 77ms/epoch - 77ms/step\n",
            "Epoch 220/300\n",
            "1/1 [==============================] - 0s 24ms/step\n",
            "1/1 - 0s - loss: 0.0175 - 91ms/epoch - 91ms/step\n",
            "Epoch 221/300\n",
            "1/1 [==============================] - 0s 21ms/step\n",
            "1/1 - 0s - loss: 0.0172 - 82ms/epoch - 82ms/step\n",
            "Epoch 222/300\n",
            "1/1 [==============================] - 0s 23ms/step\n",
            "1/1 - 0s - loss: 0.0168 - 88ms/epoch - 88ms/step\n",
            "Epoch 223/300\n",
            "1/1 [==============================] - 0s 24ms/step\n",
            "1/1 - 0s - loss: 0.0165 - 98ms/epoch - 98ms/step\n",
            "Epoch 224/300\n",
            "1/1 [==============================] - 0s 25ms/step\n",
            "1/1 - 0s - loss: 0.0161 - 106ms/epoch - 106ms/step\n",
            "Epoch 225/300\n",
            "1/1 [==============================] - 0s 27ms/step\n",
            "1/1 - 0s - loss: 0.0158 - 89ms/epoch - 89ms/step\n",
            "Epoch 226/300\n",
            "1/1 [==============================] - 0s 26ms/step\n",
            "1/1 - 0s - loss: 0.0155 - 89ms/epoch - 89ms/step\n",
            "Epoch 227/300\n",
            "1/1 [==============================] - 0s 22ms/step\n",
            "1/1 - 0s - loss: 0.0152 - 92ms/epoch - 92ms/step\n",
            "Epoch 228/300\n",
            "1/1 [==============================] - 0s 23ms/step\n",
            "1/1 - 0s - loss: 0.0149 - 89ms/epoch - 89ms/step\n",
            "Epoch 229/300\n",
            "1/1 [==============================] - 0s 23ms/step\n",
            "1/1 - 0s - loss: 0.0146 - 81ms/epoch - 81ms/step\n",
            "Epoch 230/300\n",
            "1/1 [==============================] - 0s 24ms/step\n",
            "1/1 - 0s - loss: 0.0143 - 90ms/epoch - 90ms/step\n",
            "Epoch 231/300\n",
            "1/1 [==============================] - 0s 24ms/step\n",
            "1/1 - 0s - loss: 0.0140 - 87ms/epoch - 87ms/step\n",
            "Epoch 232/300\n",
            "1/1 [==============================] - 0s 22ms/step\n",
            "1/1 - 0s - loss: 0.0137 - 80ms/epoch - 80ms/step\n",
            "Epoch 233/300\n",
            "1/1 [==============================] - 0s 22ms/step\n",
            "1/1 - 0s - loss: 0.0134 - 89ms/epoch - 89ms/step\n",
            "Epoch 234/300\n",
            "1/1 [==============================] - 0s 24ms/step\n",
            "1/1 - 0s - loss: 0.0131 - 79ms/epoch - 79ms/step\n",
            "Epoch 235/300\n",
            "1/1 [==============================] - 0s 23ms/step\n",
            "1/1 - 0s - loss: 0.0128 - 87ms/epoch - 87ms/step\n",
            "Epoch 236/300\n",
            "1/1 [==============================] - 0s 28ms/step\n",
            "1/1 - 0s - loss: 0.0126 - 92ms/epoch - 92ms/step\n",
            "Epoch 237/300\n",
            "1/1 [==============================] - 0s 21ms/step\n",
            "1/1 - 0s - loss: 0.0123 - 79ms/epoch - 79ms/step\n",
            "Epoch 238/300\n",
            "1/1 [==============================] - 0s 29ms/step\n",
            "1/1 - 0s - loss: 0.0121 - 106ms/epoch - 106ms/step\n",
            "Epoch 239/300\n",
            "1/1 [==============================] - 0s 22ms/step\n",
            "1/1 - 0s - loss: 0.0118 - 90ms/epoch - 90ms/step\n",
            "Epoch 240/300\n",
            "1/1 [==============================] - 0s 22ms/step\n",
            "1/1 - 0s - loss: 0.0116 - 82ms/epoch - 82ms/step\n",
            "Epoch 241/300\n",
            "1/1 [==============================] - 0s 23ms/step\n",
            "1/1 - 0s - loss: 0.0113 - 87ms/epoch - 87ms/step\n",
            "Epoch 242/300\n",
            "1/1 [==============================] - 0s 22ms/step\n",
            "1/1 - 0s - loss: 0.0111 - 82ms/epoch - 82ms/step\n",
            "Epoch 243/300\n",
            "1/1 [==============================] - 0s 23ms/step\n",
            "1/1 - 0s - loss: 0.0109 - 84ms/epoch - 84ms/step\n",
            "Epoch 244/300\n",
            "1/1 [==============================] - 0s 26ms/step\n",
            "1/1 - 0s - loss: 0.0107 - 79ms/epoch - 79ms/step\n",
            "Epoch 245/300\n",
            "1/1 [==============================] - 0s 24ms/step\n",
            "1/1 - 0s - loss: 0.0104 - 85ms/epoch - 85ms/step\n",
            "Epoch 246/300\n",
            "1/1 [==============================] - 0s 24ms/step\n",
            "1/1 - 0s - loss: 0.0102 - 102ms/epoch - 102ms/step\n",
            "Epoch 247/300\n",
            "1/1 [==============================] - 0s 23ms/step\n",
            "1/1 - 0s - loss: 0.0100 - 81ms/epoch - 81ms/step\n",
            "Epoch 248/300\n",
            "1/1 [==============================] - 0s 22ms/step\n",
            "1/1 - 0s - loss: 0.0098 - 95ms/epoch - 95ms/step\n",
            "Epoch 249/300\n",
            "1/1 [==============================] - 0s 24ms/step\n",
            "1/1 - 0s - loss: 0.0096 - 85ms/epoch - 85ms/step\n",
            "Epoch 250/300\n",
            "1/1 [==============================] - 0s 24ms/step\n",
            "1/1 - 0s - loss: 0.0094 - 87ms/epoch - 87ms/step\n",
            "Epoch 251/300\n",
            "1/1 [==============================] - 0s 37ms/step\n",
            "1/1 - 0s - loss: 0.0092 - 99ms/epoch - 99ms/step\n",
            "Epoch 252/300\n",
            "1/1 [==============================] - 0s 23ms/step\n",
            "1/1 - 0s - loss: 0.0090 - 87ms/epoch - 87ms/step\n",
            "Epoch 253/300\n",
            "1/1 [==============================] - 0s 26ms/step\n",
            "1/1 - 0s - loss: 0.0088 - 86ms/epoch - 86ms/step\n",
            "Epoch 254/300\n",
            "1/1 [==============================] - 0s 22ms/step\n",
            "1/1 - 0s - loss: 0.0087 - 78ms/epoch - 78ms/step\n",
            "Epoch 255/300\n",
            "1/1 [==============================] - 0s 22ms/step\n",
            "1/1 - 0s - loss: 0.0085 - 95ms/epoch - 95ms/step\n",
            "Epoch 256/300\n",
            "1/1 [==============================] - 0s 22ms/step\n",
            "1/1 - 0s - loss: 0.0083 - 84ms/epoch - 84ms/step\n",
            "Epoch 257/300\n",
            "1/1 [==============================] - 0s 26ms/step\n",
            "1/1 - 0s - loss: 0.0081 - 101ms/epoch - 101ms/step\n",
            "Epoch 258/300\n",
            "1/1 [==============================] - 0s 23ms/step\n",
            "1/1 - 0s - loss: 0.0080 - 79ms/epoch - 79ms/step\n",
            "Epoch 259/300\n",
            "1/1 [==============================] - 0s 22ms/step\n",
            "1/1 - 0s - loss: 0.0078 - 81ms/epoch - 81ms/step\n",
            "Epoch 260/300\n",
            "1/1 [==============================] - 0s 27ms/step\n",
            "1/1 - 0s - loss: 0.0076 - 87ms/epoch - 87ms/step\n",
            "Epoch 261/300\n",
            "1/1 [==============================] - 0s 28ms/step\n",
            "1/1 - 0s - loss: 0.0075 - 95ms/epoch - 95ms/step\n",
            "Epoch 262/300\n",
            "1/1 [==============================] - 0s 27ms/step\n",
            "1/1 - 0s - loss: 0.0073 - 88ms/epoch - 88ms/step\n",
            "Epoch 263/300\n",
            "1/1 [==============================] - 0s 31ms/step\n",
            "1/1 - 0s - loss: 0.0072 - 103ms/epoch - 103ms/step\n",
            "Epoch 264/300\n",
            "1/1 [==============================] - 0s 22ms/step\n",
            "1/1 - 0s - loss: 0.0070 - 77ms/epoch - 77ms/step\n",
            "Epoch 265/300\n",
            "1/1 [==============================] - 0s 24ms/step\n",
            "1/1 - 0s - loss: 0.0069 - 88ms/epoch - 88ms/step\n",
            "Epoch 266/300\n",
            "1/1 [==============================] - 0s 23ms/step\n",
            "1/1 - 0s - loss: 0.0068 - 86ms/epoch - 86ms/step\n",
            "Epoch 267/300\n",
            "1/1 [==============================] - 0s 23ms/step\n",
            "1/1 - 0s - loss: 0.0066 - 83ms/epoch - 83ms/step\n",
            "Epoch 268/300\n",
            "1/1 [==============================] - 0s 22ms/step\n",
            "1/1 - 0s - loss: 0.0065 - 93ms/epoch - 93ms/step\n",
            "Epoch 269/300\n",
            "1/1 [==============================] - 0s 27ms/step\n",
            "1/1 - 0s - loss: 0.0063 - 95ms/epoch - 95ms/step\n",
            "Epoch 270/300\n",
            "1/1 [==============================] - 0s 23ms/step\n",
            "1/1 - 0s - loss: 0.0062 - 80ms/epoch - 80ms/step\n",
            "Epoch 271/300\n",
            "1/1 [==============================] - 0s 23ms/step\n",
            "1/1 - 0s - loss: 0.0061 - 97ms/epoch - 97ms/step\n",
            "Epoch 272/300\n",
            "1/1 [==============================] - 0s 23ms/step\n",
            "1/1 - 0s - loss: 0.0060 - 85ms/epoch - 85ms/step\n",
            "Epoch 273/300\n",
            "1/1 [==============================] - 0s 22ms/step\n",
            "1/1 - 0s - loss: 0.0058 - 79ms/epoch - 79ms/step\n",
            "Epoch 274/300\n",
            "1/1 [==============================] - 0s 27ms/step\n",
            "1/1 - 0s - loss: 0.0057 - 88ms/epoch - 88ms/step\n",
            "Epoch 275/300\n",
            "1/1 [==============================] - 0s 22ms/step\n",
            "1/1 - 0s - loss: 0.0056 - 82ms/epoch - 82ms/step\n",
            "Epoch 276/300\n",
            "1/1 [==============================] - 0s 22ms/step\n",
            "1/1 - 0s - loss: 0.0055 - 80ms/epoch - 80ms/step\n",
            "Epoch 277/300\n",
            "1/1 [==============================] - 0s 37ms/step\n",
            "1/1 - 0s - loss: 0.0054 - 113ms/epoch - 113ms/step\n",
            "Epoch 278/300\n",
            "1/1 [==============================] - 0s 36ms/step\n",
            "1/1 - 0s - loss: 0.0053 - 137ms/epoch - 137ms/step\n",
            "Epoch 279/300\n",
            "1/1 [==============================] - 0s 37ms/step\n",
            "1/1 - 0s - loss: 0.0052 - 133ms/epoch - 133ms/step\n",
            "Epoch 280/300\n",
            "1/1 [==============================] - 0s 36ms/step\n",
            "1/1 - 0s - loss: 0.0050 - 132ms/epoch - 132ms/step\n",
            "Epoch 281/300\n",
            "1/1 [==============================] - 0s 42ms/step\n",
            "1/1 - 0s - loss: 0.0049 - 112ms/epoch - 112ms/step\n",
            "Epoch 282/300\n",
            "1/1 [==============================] - 0s 32ms/step\n",
            "1/1 - 0s - loss: 0.0048 - 128ms/epoch - 128ms/step\n",
            "Epoch 283/300\n",
            "1/1 [==============================] - 0s 32ms/step\n",
            "1/1 - 0s - loss: 0.0047 - 102ms/epoch - 102ms/step\n",
            "Epoch 284/300\n",
            "1/1 [==============================] - 0s 33ms/step\n",
            "1/1 - 0s - loss: 0.0046 - 126ms/epoch - 126ms/step\n",
            "Epoch 285/300\n",
            "1/1 [==============================] - 0s 36ms/step\n",
            "1/1 - 0s - loss: 0.0046 - 117ms/epoch - 117ms/step\n",
            "Epoch 286/300\n",
            "1/1 [==============================] - 0s 33ms/step\n",
            "1/1 - 0s - loss: 0.0045 - 137ms/epoch - 137ms/step\n",
            "Epoch 287/300\n",
            "1/1 [==============================] - 0s 35ms/step\n",
            "1/1 - 0s - loss: 0.0044 - 136ms/epoch - 136ms/step\n",
            "Epoch 288/300\n",
            "1/1 [==============================] - 0s 36ms/step\n",
            "1/1 - 0s - loss: 0.0043 - 144ms/epoch - 144ms/step\n",
            "Epoch 289/300\n",
            "1/1 [==============================] - 0s 35ms/step\n",
            "1/1 - 0s - loss: 0.0042 - 117ms/epoch - 117ms/step\n",
            "Epoch 290/300\n",
            "1/1 [==============================] - 0s 32ms/step\n",
            "1/1 - 0s - loss: 0.0041 - 139ms/epoch - 139ms/step\n",
            "Epoch 291/300\n",
            "1/1 [==============================] - 0s 32ms/step\n",
            "1/1 - 0s - loss: 0.0040 - 117ms/epoch - 117ms/step\n",
            "Epoch 292/300\n",
            "1/1 [==============================] - 0s 33ms/step\n",
            "1/1 - 0s - loss: 0.0039 - 112ms/epoch - 112ms/step\n",
            "Epoch 293/300\n",
            "1/1 [==============================] - 0s 32ms/step\n",
            "1/1 - 0s - loss: 0.0039 - 114ms/epoch - 114ms/step\n",
            "Epoch 294/300\n",
            "1/1 [==============================] - 0s 36ms/step\n",
            "1/1 - 0s - loss: 0.0038 - 131ms/epoch - 131ms/step\n",
            "Epoch 295/300\n",
            "1/1 [==============================] - 0s 35ms/step\n",
            "1/1 - 0s - loss: 0.0037 - 122ms/epoch - 122ms/step\n",
            "Epoch 296/300\n",
            "1/1 [==============================] - 0s 41ms/step\n",
            "1/1 - 0s - loss: 0.0036 - 160ms/epoch - 160ms/step\n",
            "Epoch 297/300\n",
            "1/1 [==============================] - 0s 34ms/step\n",
            "1/1 - 0s - loss: 0.0035 - 106ms/epoch - 106ms/step\n",
            "Epoch 298/300\n",
            "1/1 [==============================] - 0s 33ms/step\n",
            "1/1 - 0s - loss: 0.0035 - 121ms/epoch - 121ms/step\n",
            "Epoch 299/300\n",
            "1/1 [==============================] - 0s 24ms/step\n",
            "1/1 - 0s - loss: 0.0034 - 92ms/epoch - 92ms/step\n",
            "Epoch 300/300\n",
            "1/1 [==============================] - 0s 22ms/step\n",
            "1/1 - 0s - loss: 0.0033 - 85ms/epoch - 85ms/step\n"
          ]
        },
        {
          "output_type": "execute_result",
          "data": {
            "text/plain": [
              "<keras.src.callbacks.History at 0x7b37a85a2230>"
            ]
          },
          "metadata": {},
          "execution_count": 97
        }
      ],
      "source": [
        "# DO NOT CHANGE THIS CELL\n",
        "\n",
        "# We then fit the model\n",
        "epochs = 300\n",
        "print(\"Training!\")\n",
        "model.fit(xs, ys, epochs=epochs, callbacks=[callbacks], verbose=2)"
      ]
    },
    {
      "cell_type": "markdown",
      "source": [
        "### Plot Loss graph"
      ],
      "metadata": {
        "id": "K5LXMdjRwn1g"
      }
    },
    {
      "cell_type": "markdown",
      "source": [
        "Use the ***predicted ys*** and the ***ground truth ys*** to manually calculate the MSE (mean-squared error) loss for each epoch. Then, plot the **loss vs epochs** graph, which should represent decreasing loss.\n",
        "\n",
        "***Hint1:*** The shape of 'predictions' array is **(epochs, 6)** - this represents a 2D array of the 6 predicted Y values at every epoch. Each row represents the 6 predicted Y values.\n",
        "\n",
        "***Hint2:*** Store the 'loss' as a 1D vector of size **(epochs)**. Each value will represent the MSE (of all 6 Ys) at each epoch."
      ],
      "metadata": {
        "id": "9hengxScwQRq"
      }
    },
    {
      "cell_type": "code",
      "source": [
        "predictions = np.asarray(predictions)\n",
        "predictions = predictions.reshape(epochs, 6)\n",
        "print(\"Predictions array shape:\" ,predictions.shape)\n",
        "print(\"Ys Ground Truth shape: \", ys.shape)\n",
        "\n",
        "# TODO - Calculate MSE Loss and Plot Loss graph\n",
        "losses = []\n",
        "for epoch in range(predictions.shape[0]):\n",
        "  MSE = np.mean((predictions[epoch] - ys)**2)\n",
        "  losses.append(MSE)\n",
        "\n",
        "losses = np.array(losses)\n",
        "epochs = np.arange(1, len(losses)+1)\n",
        "\n",
        "plt.plot(epochs, losses)\n",
        "plt.title('Manually Calculated Loss Function (MSE) Over Training Epochs')\n",
        "plt.ylabel('Loss')\n",
        "plt.xlabel('Epoch')"
      ],
      "metadata": {
        "id": "m7Qwhn99q-C6",
        "colab": {
          "base_uri": "https://localhost:8080/",
          "height": 524
        },
        "outputId": "9c146fc9-ec63-4791-aea4-27004ef34519"
      },
      "execution_count": 98,
      "outputs": [
        {
          "output_type": "stream",
          "name": "stdout",
          "text": [
            "Predictions array shape: (300, 6)\n",
            "Ys Ground Truth shape:  (6,)\n"
          ]
        },
        {
          "output_type": "execute_result",
          "data": {
            "text/plain": [
              "Text(0.5, 0, 'Epoch')"
            ]
          },
          "metadata": {},
          "execution_count": 98
        },
        {
          "output_type": "display_data",
          "data": {
            "text/plain": [
              "<Figure size 640x480 with 1 Axes>"
            ],
            "image/png": "[encoded data removed]"
          },
          "metadata": {}
        }
      ]
    },
    {
      "cell_type": "markdown",
      "metadata": {
        "id": "Z3yhScVorTvs"
      },
      "source": [
        "Below is a plot of the resulting y predictions at EPOCH_NUMBERS = 1, 25, 50, 150, 300. If you'd like to see other predictions at other epochs, update the EPOCH_NUMBERS variable and re-run the cell!"
      ]
    },
    {
      "cell_type": "code",
      "execution_count": 99,
      "metadata": {
        "id": "9NSFY8oQbNlD",
        "colab": {
          "base_uri": "https://localhost:8080/",
          "height": 430
        },
        "outputId": "8a165050-3ab8-46a6-cea5-0be3f06c81d0"
      },
      "outputs": [
        {
          "output_type": "display_data",
          "data": {
            "text/plain": [
              "<Figure size 640x480 with 1 Axes>"
            ],
            "image/png": "[encoded data removed]"
          },
          "metadata": {}
        }
      ],
      "source": [
        "EPOCH_NUMBERS=[1,25,50,150,300] # Update me to see other Epochs\n",
        "plt.plot(xs,ys,label = \"Ys\")\n",
        "for EPOCH in EPOCH_NUMBERS:\n",
        "    plt.plot(xs,predictions[EPOCH-1],label = \"Epoch = \" + str(EPOCH))\n",
        "plt.legend()\n",
        "plt.show()"
      ]
    },
    {
      "cell_type": "markdown",
      "source": [
        "# 2. Multiclass Classification using Dense Neural Network\n",
        "\n",
        "In the second section of the assignment, you'll create a multi-layer Neural network with Dense layers for a Multi-class Classification problem.\n",
        "\n",
        "We start by setting up the problem for you."
      ],
      "metadata": {
        "id": "4RwCEyGX3pD_"
      }
    },
    {
      "cell_type": "code",
      "source": [
        "import tensorflow as tf\n",
        "import numpy as np\n",
        "import matplotlib.pyplot as plt"
      ],
      "metadata": {
        "id": "CVtyj-UdsNHh"
      },
      "execution_count": 100,
      "outputs": []
    },
    {
      "cell_type": "markdown",
      "source": [
        "### Load Dataset"
      ],
      "metadata": {
        "id": "KjgLfzEW3guP"
      }
    },
    {
      "cell_type": "markdown",
      "source": [
        "You will be using the Fashion MNIST Dataset. - https://github.com/zalandoresearch/fashion-mnist. In the below cell, use the TensorFlow Keras API to load the datatset and split it into training and test sets."
      ],
      "metadata": {
        "id": "hnD1ll9I4CV0"
      }
    },
    {
      "cell_type": "code",
      "source": [
        "# TODO - Load in fashion MNIST\n",
        "#!git clone git@github.com:zalandoresearch/fashion-mnist.git\n",
        "from tensorflow.keras.datasets import fashion_mnist\n",
        "(training_images, training_labels), (test_images, test_labels) = fashion_mnist.load_data()\n",
        "\n",
        "\n"
      ],
      "metadata": {
        "id": "7plbAHHI4FNL"
      },
      "execution_count": 101,
      "outputs": []
    },
    {
      "cell_type": "markdown",
      "source": [
        "### Plot Sample Training Examples\n",
        "\n",
        "\n",
        "\n",
        "---\n",
        "\n",
        "\n",
        "Question 1: Plot the first 3 training images along with the training labels.\n",
        "\n",
        "\n",
        "\n",
        "---\n",
        "\n"
      ],
      "metadata": {
        "id": "RDVd_M8o-pOJ"
      }
    },
    {
      "cell_type": "code",
      "source": [
        "# TODO - plot 1st training example\n",
        "plt.figure()\n",
        "plt.imshow(training_images[0], cmap=plt.cm.binary)\n",
        "plt.title([training_labels[0]])\n",
        "plt.axis('off')\n",
        "plt.show()\n"
      ],
      "metadata": {
        "id": "mYLHpFxesl0v",
        "colab": {
          "base_uri": "https://localhost:8080/",
          "height": 428
        },
        "outputId": "31d8bf0d-7c66-489d-e638-831e60b4d250"
      },
      "execution_count": 102,
      "outputs": [
        {
          "output_type": "display_data",
          "data": {
            "text/plain": [
              "<Figure size 640x480 with 1 Axes>"
            ],
            "image/png": "[encoded data removed]"
          },
          "metadata": {}
        }
      ]
    },
    {
      "cell_type": "code",
      "source": [
        "# TODO - plot 2nd training example\n",
        "plt.figure()\n",
        "plt.imshow(training_images[1], cmap=plt.cm.binary)\n",
        "plt.title([training_labels[1]])\n",
        "plt.axis('off')\n",
        "plt.show()\n"
      ],
      "metadata": {
        "id": "SHwuTsdf6BvZ",
        "colab": {
          "base_uri": "https://localhost:8080/",
          "height": 428
        },
        "outputId": "ad567bb9-f119-44dd-cf75-d00721c46dee"
      },
      "execution_count": 103,
      "outputs": [
        {
          "output_type": "display_data",
          "data": {
            "text/plain": [
              "<Figure size 640x480 with 1 Axes>"
            ],
            "image/png": "[encoded data removed]"
          },
          "metadata": {}
        }
      ]
    },
    {
      "cell_type": "code",
      "source": [
        "# TODO - plot 3rd training example\n",
        "plt.figure()\n",
        "plt.imshow(training_images[2], cmap=plt.cm.binary)\n",
        "plt.title([training_labels[2]])\n",
        "plt.axis('off')\n",
        "plt.show()\n"
      ],
      "metadata": {
        "id": "tbmgs0Mc6B47",
        "colab": {
          "base_uri": "https://localhost:8080/",
          "height": 428
        },
        "outputId": "3ae93eee-4393-4562-fd49-289ec71e5e6b"
      },
      "execution_count": 104,
      "outputs": [
        {
          "output_type": "display_data",
          "data": {
            "text/plain": [
              "<Figure size 640x480 with 1 Axes>"
            ],
            "image/png": "[encoded data removed]"
          },
          "metadata": {}
        }
      ]
    },
    {
      "cell_type": "markdown",
      "source": [
        "### Define Model"
      ],
      "metadata": {
        "id": "-EWEIMWx3mO3"
      }
    },
    {
      "cell_type": "markdown",
      "source": [
        "We define the below model - a two-layer DNN (one hidden layer, output layer) - to take in the Fashion MNIST 28 x 28 grayscale image as input. This is in addition to the input layer. Can you detetrmine the number of neurons in the output layer?"
      ],
      "metadata": {
        "id": "M1LBogzb3ssj"
      }
    },
    {
      "cell_type": "code",
      "source": [
        "# Define the base model\n",
        "\n",
        "No_Output_Neurons = 10 # < YOUR ANSWER HERE > #\n",
        "model = tf.keras.models.Sequential([tf.keras.layers.Flatten(input_shape=(28,28)),\n",
        "                                    tf.keras.layers.Dense(512, activation=tf.nn.relu),\n",
        "                                    tf.keras.layers.Dense(No_Output_Neurons, activation=tf.nn.softmax)])"
      ],
      "metadata": {
        "id": "8Lzj5hJ54HKX"
      },
      "execution_count": 105,
      "outputs": []
    },
    {
      "cell_type": "markdown",
      "source": [
        "In the below cell, compile the above defined model with the appropriate Optimizer and Loss Function. Use accuracy as your metric.\n",
        "\n",
        "Refer to the TensorFlow Documentation!"
      ],
      "metadata": {
        "id": "LAidejWG6Zet"
      }
    },
    {
      "cell_type": "code",
      "source": [
        "# TODO - compile the model\n",
        "\n",
        "model.compile(optimizer='adam', loss='sparse_categorical_crossentropy', metrics=['accuracy'])"
      ],
      "metadata": {
        "id": "6AqqFZpA6U48"
      },
      "execution_count": 106,
      "outputs": []
    },
    {
      "cell_type": "markdown",
      "source": [
        "### Train Model"
      ],
      "metadata": {
        "id": "FRIzqNq761XD"
      }
    },
    {
      "cell_type": "markdown",
      "source": [
        "Next, we fit the trained model to the training set. But before we do that, we must **preprocess our training and test images**!!\n",
        "\n",
        "Neural Networks learn the best when the data is scaled / normalized to fall in a constant range. Practitioners often use the range [0,1]. How might you do this to the training and test images used here?\n",
        "\n",
        "*A hint: these images are saved in the standard [RGB](https://www.rapidtables.com/web/color/RGB_Color.html) format*"
      ],
      "metadata": {
        "id": "78XVSI7L65Qw"
      }
    },
    {
      "cell_type": "code",
      "source": [
        "# TODO - Preprocess Training and Test Images\n",
        "training_norm = training_images/ 255.0\n",
        "test_norm = test_images / 255.0\n"
      ],
      "metadata": {
        "id": "_bFSJBYd4OTe"
      },
      "execution_count": 107,
      "outputs": []
    },
    {
      "cell_type": "markdown",
      "source": [
        "Using these improved images, we train the model! Since this is a very simple dataset we only train for 5 epochs.\n"
      ],
      "metadata": {
        "id": "-ffWl32Y4Qt2"
      }
    },
    {
      "cell_type": "markdown",
      "source": [
        "\n",
        "---\n",
        "\n",
        "\n",
        "**Question 2:** Train the model for epochs = 5, 15, 20 and report the accuracies.\n",
        "\n",
        "**Answer:**\n",
        "\n",
        "\n",
        "1.   epochs = 5, training accuracy = 0.8948\n",
        "2.   epochs = 15, training accuracy = 0.9307\n",
        "3.   epochs = 20, training accuracy = 0.9399\n",
        "\n",
        "\n",
        "\n",
        "\n",
        "\n",
        "---"
      ],
      "metadata": {
        "id": "FR0odx7Y7QBx"
      }
    },
    {
      "cell_type": "code",
      "source": [
        "# fit the model to the training data\n",
        "\n",
        "print(\"Training!\")\n",
        "model.fit(training_norm, training_labels, epochs=20)"
      ],
      "metadata": {
        "id": "gaRnCjlV4TAL",
        "colab": {
          "base_uri": "https://localhost:8080/"
        },
        "outputId": "db145edb-0cf9-467c-b10c-226f5f85eb3e"
      },
      "execution_count": 108,
      "outputs": [
        {
          "output_type": "stream",
          "name": "stdout",
          "text": [
            "Training!\n",
            "Epoch 1/20\n",
            "1875/1875 [==============================] - 16s 8ms/step - loss: 0.4775 - accuracy: 0.8283\n",
            "Epoch 2/20\n",
            "1875/1875 [==============================] - 15s 8ms/step - loss: 0.3606 - accuracy: 0.8683\n",
            "Epoch 3/20\n",
            "1875/1875 [==============================] - 15s 8ms/step - loss: 0.3211 - accuracy: 0.8819\n",
            "Epoch 4/20\n",
            "1875/1875 [==============================] - 15s 8ms/step - loss: 0.2973 - accuracy: 0.8899\n",
            "Epoch 5/20\n",
            "1875/1875 [==============================] - 15s 8ms/step - loss: 0.2786 - accuracy: 0.8947\n",
            "Epoch 6/20\n",
            "1875/1875 [==============================] - 15s 8ms/step - loss: 0.2664 - accuracy: 0.9012\n",
            "Epoch 7/20\n",
            "1875/1875 [==============================] - 15s 8ms/step - loss: 0.2525 - accuracy: 0.9052\n",
            "Epoch 8/20\n",
            "1875/1875 [==============================] - 16s 9ms/step - loss: 0.2401 - accuracy: 0.9097\n",
            "Epoch 9/20\n",
            "1875/1875 [==============================] - 16s 8ms/step - loss: 0.2311 - accuracy: 0.9142\n",
            "Epoch 10/20\n",
            "1875/1875 [==============================] - 16s 8ms/step - loss: 0.2223 - accuracy: 0.9167\n",
            "Epoch 11/20\n",
            "1875/1875 [==============================] - 15s 8ms/step - loss: 0.2140 - accuracy: 0.9196\n",
            "Epoch 12/20\n",
            "1875/1875 [==============================] - 15s 8ms/step - loss: 0.2067 - accuracy: 0.9219\n",
            "Epoch 13/20\n",
            "1875/1875 [==============================] - 15s 8ms/step - loss: 0.2003 - accuracy: 0.9248\n",
            "Epoch 14/20\n",
            "1875/1875 [==============================] - 15s 8ms/step - loss: 0.1910 - accuracy: 0.9284\n",
            "Epoch 15/20\n",
            "1875/1875 [==============================] - 15s 8ms/step - loss: 0.1854 - accuracy: 0.9300\n",
            "Epoch 16/20\n",
            "1875/1875 [==============================] - 15s 8ms/step - loss: 0.1777 - accuracy: 0.9334\n",
            "Epoch 17/20\n",
            "1875/1875 [==============================] - 15s 8ms/step - loss: 0.1747 - accuracy: 0.9340\n",
            "Epoch 18/20\n",
            "1875/1875 [==============================] - 15s 8ms/step - loss: 0.1692 - accuracy: 0.9366\n",
            "Epoch 19/20\n",
            "1875/1875 [==============================] - 15s 8ms/step - loss: 0.1646 - accuracy: 0.9375\n",
            "Epoch 20/20\n",
            "1875/1875 [==============================] - 15s 8ms/step - loss: 0.1578 - accuracy: 0.9399\n"
          ]
        },
        {
          "output_type": "execute_result",
          "data": {
            "text/plain": [
              "<keras.src.callbacks.History at 0x7b3791ad50c0>"
            ]
          },
          "metadata": {},
          "execution_count": 108
        }
      ]
    },
    {
      "cell_type": "markdown",
      "source": [
        "Once it's done training -- you should see an accuracy value at the end of the final epoch. It might look something like ~ 0.86 - 0.89 for epochs = 5. This tells you that your neural network is about 86 - 89% accurate in classifying the training data. i.e., it figured out a pattern match between the image and the labels that worked 86% - 89% of the time."
      ],
      "metadata": {
        "id": "hP8nXz3S4W9W"
      }
    },
    {
      "cell_type": "markdown",
      "source": [
        "### Evaluate Model"
      ],
      "metadata": {
        "id": "q0DBHGxq9Smh"
      }
    },
    {
      "cell_type": "markdown",
      "source": [
        "How well would the model work with unseen data? That's why we have the test images. We can call ```model.evaluate```. It evaluates our model on the test images and compares the predictions to the actual test labels.\n",
        "\n",
        "Refer TensorFlow Documentation to learn how to use the ```model.evaluate``` API."
      ],
      "metadata": {
        "id": "qejE87dV9UTU"
      }
    },
    {
      "cell_type": "code",
      "source": [
        "# TODO - test the model on the test data\n",
        "training_loss, training_accuracy = model.evaluate(training_images, training_labels)\n",
        "print(\"Testing!\")\n"
      ],
      "metadata": {
        "id": "9CFJ1jT39QiO",
        "colab": {
          "base_uri": "https://localhost:8080/"
        },
        "outputId": "fae79cb0-e510-4ba6-db8f-262ad0e1a4e2"
      },
      "execution_count": 109,
      "outputs": [
        {
          "output_type": "stream",
          "name": "stdout",
          "text": [
            "1875/1875 [==============================] - 7s 4ms/step - loss: 24.8301 - accuracy: 0.9294\n",
            "Testing!\n"
          ]
        }
      ]
    },
    {
      "cell_type": "markdown",
      "source": [
        "The API returns a loss value followed by the test accuracy. You might get an accuracy of around 87 - 89% accuracy. Not Bad!"
      ],
      "metadata": {
        "id": "ixqx29Wl9zKU"
      }
    },
    {
      "cell_type": "markdown",
      "source": [
        "\n",
        "\n",
        "But what did it actually learn? If we inference on the model using ```model.predict``` we get out the following list of values. **What does it represent?**\n",
        "\n",
        "*A hint: trying running ```print(test_labels[0])```*"
      ],
      "metadata": {
        "id": "CWrxZRjc4abM"
      }
    },
    {
      "cell_type": "code",
      "source": [
        "classifications = model.predict(test_norm)\n",
        "print(\"predictions:\", classifications[0])    # probability distribution for predictions of first test image.\n",
        "print(\"final prediction:\", np.argmax(classifications[0]))      # final prediction - max probability\n",
        "print(\"ground truth:\", test_labels[0])\n",
        "print(test_labels[0])"
      ],
      "metadata": {
        "id": "ifknu06l4j-0",
        "colab": {
          "base_uri": "https://localhost:8080/"
        },
        "outputId": "af19cc21-0003-43c8-959a-b8ec35e9d2f4"
      },
      "execution_count": 110,
      "outputs": [
        {
          "output_type": "stream",
          "name": "stdout",
          "text": [
            "313/313 [==============================] - 1s 3ms/step\n",
            "predictions: [4.0892403e-13 1.1511763e-14 6.2169833e-14 2.0315265e-17 1.4690164e-14\n",
            " 2.0064772e-05 4.0470605e-13 6.8991372e-05 1.6606188e-13 9.9991089e-01]\n",
            "final prediction: 9\n",
            "ground truth: 9\n",
            "9\n"
          ]
        }
      ]
    },
    {
      "cell_type": "markdown",
      "source": [
        "You can also visualize the results!"
      ],
      "metadata": {
        "id": "sFg_dfni4nME"
      }
    },
    {
      "cell_type": "code",
      "source": [
        "plt.imshow(test_norm[0], cmap='gray')"
      ],
      "metadata": {
        "id": "3Bgrb1Jk4pUg",
        "colab": {
          "base_uri": "https://localhost:8080/",
          "height": 447
        },
        "outputId": "e160272e-df86-4cbc-db23-0bf0decfff22"
      },
      "execution_count": 111,
      "outputs": [
        {
          "output_type": "execute_result",
          "data": {
            "text/plain": [
              "<matplotlib.image.AxesImage at 0x7b378b1cb0d0>"
            ]
          },
          "metadata": {},
          "execution_count": 111
        },
        {
          "output_type": "display_data",
          "data": {
            "text/plain": [
              "<Figure size 640x480 with 1 Axes>"
            ],
            "image/png": "[encoded data removed]"
          },
          "metadata": {}
        }
      ]
    },
    {
      "cell_type": "markdown",
      "source": [
        "### Case 1 - Double number of Neurons in Hidden Dense Layer"
      ],
      "metadata": {
        "id": "eARYEh_7_vrX"
      }
    },
    {
      "cell_type": "markdown",
      "source": [
        "In the below cell, define a model with double the number of neurons in the dense hidden layer. Then, compile the model, train the model on the training set, and evaluate the model on the test set.\n",
        "\n"
      ],
      "metadata": {
        "id": "zdzO3k3b4rmr"
      }
    },
    {
      "cell_type": "code",
      "source": [
        "# TODO - Define model, compile, train, evaluate\n",
        "double_Output_Neurons = 2 * No_Output_Neurons # < YOUR ANSWER HERE > #\n",
        "model1 = tf.keras.models.Sequential([tf.keras.layers.Flatten(input_shape=(28,28)),\n",
        "                                    tf.keras.layers.Dense(512, activation=tf.nn.relu),\n",
        "                                    tf.keras.layers.Dense(double_Output_Neurons, activation=tf.nn.softmax)])\n",
        "model1.compile(optimizer='Adam', loss='sparse_categorical_crossentropy', metrics=['accuracy'])\n",
        "training_norm1 = training_images / 255.0\n",
        "test_norm1 = test_images / 255.0\n",
        "print(\"Training!\")\n",
        "model1.fit(training_norm1, training_labels, epochs=5)\n",
        "training_loss, training_accuracy = model.evaluate(training_norm1, training_labels)\n",
        "print(\"Testing!\")"
      ],
      "metadata": {
        "id": "3-akz3cL4skQ",
        "colab": {
          "base_uri": "https://localhost:8080/"
        },
        "outputId": "00bb3282-1473-4f50-80bf-1b1e379ea370"
      },
      "execution_count": 113,
      "outputs": [
        {
          "output_type": "stream",
          "name": "stdout",
          "text": [
            "Training!\n",
            "Epoch 1/5\n",
            "1875/1875 [==============================] - 15s 8ms/step - loss: 0.4769 - accuracy: 0.8321\n",
            "Epoch 2/5\n",
            "1875/1875 [==============================] - 15s 8ms/step - loss: 0.3616 - accuracy: 0.8672\n",
            "Epoch 3/5\n",
            "1875/1875 [==============================] - 15s 8ms/step - loss: 0.3229 - accuracy: 0.8814\n",
            "Epoch 4/5\n",
            "1875/1875 [==============================] - 15s 8ms/step - loss: 0.2989 - accuracy: 0.8886\n",
            "Epoch 5/5\n",
            "1875/1875 [==============================] - 15s 8ms/step - loss: 0.2813 - accuracy: 0.8946\n",
            "1875/1875 [==============================] - 6s 3ms/step - loss: 0.1524 - accuracy: 0.9428\n",
            "Testing!\n"
          ]
        }
      ]
    },
    {
      "cell_type": "markdown",
      "source": [
        "\n",
        "\n",
        "---\n",
        "\n",
        "\n",
        "\n",
        "**Question 3:** Do you observe a difference in loss, accuracy, training time etc and if so list them down. Why do you think that's the case?\n",
        "\n",
        "**Answer**: Loss seems slightly higher than before, training time is similar but maybe slightly less, and it looks less accurate by around 0.0002. This is because we increased the number of output neurons.\n",
        "\n",
        "\n",
        "\n",
        "---\n",
        "\n"
      ],
      "metadata": {
        "id": "dDI6sAz2AY9S"
      }
    },
    {
      "cell_type": "markdown",
      "source": [
        "### Case 2 - Include Additional Dense Layer"
      ],
      "metadata": {
        "id": "-tMeBgE6BI6T"
      }
    },
    {
      "cell_type": "markdown",
      "source": [
        "Consider the effects of additional layers in the network instead of just adding more neurons to the same layer.\n",
        "\n",
        "In the below cell, define a model to add an additional layer with 128 neurons between the two existing Dense layers."
      ],
      "metadata": {
        "id": "_mR7uWyf44pL"
      }
    },
    {
      "cell_type": "code",
      "source": [
        "# TODO - Define Similar Model as before with additional Layer\n",
        "\n",
        "model2 = tf.keras.models.Sequential([tf.keras.layers.Flatten(input_shape=(28,28)),\n",
        "                                    tf.keras.layers.Dense(512, activation=tf.nn.relu),\n",
        "                                    tf.keras.layers.Dense(128, activation=tf.nn.relu),\n",
        "                                    tf.keras.layers.Dense(No_Output_Neurons, activation=tf.nn.softmax)])"
      ],
      "metadata": {
        "id": "J3A5FgZU44St"
      },
      "execution_count": 116,
      "outputs": []
    },
    {
      "cell_type": "markdown",
      "source": [
        "We then compile the model, fit the model to training data, and evaluate our model on the test data."
      ],
      "metadata": {
        "id": "k9hpgXvn5DKR"
      }
    },
    {
      "cell_type": "code",
      "source": [
        "# TODO - compile fit and evaluate the model again\n",
        "model2.compile(optimizer='Adam', loss='sparse_categorical_crossentropy', metrics=['accuracy'])\n",
        "training_norm2 = training_images / 255.0\n",
        "test_norm2 = test_images / 255.0\n",
        "training_loss, training_accuracy = model.evaluate(training_norm2, training_labels)\n",
        "print(\"Testing!\")\n"
      ],
      "metadata": {
        "id": "QX6vFpKA5FUF",
        "colab": {
          "base_uri": "https://localhost:8080/"
        },
        "outputId": "2ae67f2e-d587-4a27-ecab-20613f772129"
      },
      "execution_count": 117,
      "outputs": [
        {
          "output_type": "stream",
          "name": "stdout",
          "text": [
            "1875/1875 [==============================] - 7s 4ms/step - loss: 0.1524 - accuracy: 0.9428\n",
            "Testing!\n"
          ]
        }
      ]
    },
    {
      "cell_type": "markdown",
      "source": [
        "\n",
        "---\n",
        "\n",
        "\n",
        "\n",
        "**Question 4:** What happens to the error? How does this compare to the original model and the model with double the number of neurons?\n",
        "\n",
        "**Answer**: Its error goes down as we add an additional layer. Compared to the original model and the model with double the number of neurons, this one provides the most accurate model with 94.3% accuracy for only 5 epochs.\n",
        "\n",
        "\n",
        "\n",
        "---"
      ],
      "metadata": {
        "id": "hlShUY7vCnF_"
      }
    },
    {
      "cell_type": "markdown",
      "source": [
        "# Callbacks"
      ],
      "metadata": {
        "id": "IDXOAb2ZDCV1"
      }
    },
    {
      "cell_type": "markdown",
      "source": [
        "Sometimes if we set the model training for too many epochs we may find that training stops improving. In this case, it would be ideal to quit training early. TensorFlow has a function called ```Callbacks``` which can check the results from each epoch.\n",
        "\n",
        "Below, we stop training the model when the accuracy is above 86%."
      ],
      "metadata": {
        "id": "TPLkTNze5OXh"
      }
    },
    {
      "cell_type": "code",
      "source": [
        "# define and instantiate your custom Callback\n",
        "class myCallback(tf.keras.callbacks.Callback):\n",
        "  def on_epoch_end(self, epoch, logs={}):\n",
        "    if( logs.get('accuracy') > 0.86):\n",
        "      self.model.stop_training = True\n",
        "\n",
        "\n",
        "callbacks = myCallback()\n"
      ],
      "metadata": {
        "id": "4TZ38rz05Q7z"
      },
      "execution_count": 118,
      "outputs": []
    },
    {
      "cell_type": "markdown",
      "source": [
        "In the below cell, re-compile the model, re-fit the model to the training data and re-evaluate the model on the test data! Observe that the training process is much shorter!\n",
        "\n",
        "**Note:** When you train the model, refer to the myCallback() class object.\n",
        "\n",
        "\n",
        "***Hint:*** Use the callbacks flag in the `model.fit()` API"
      ],
      "metadata": {
        "id": "k8GN5QIJHJMc"
      }
    },
    {
      "cell_type": "code",
      "source": [
        "# TODO - re-compile, re-fit and re-evaluate\n",
        "\n",
        "No_Output_Neurons = 10 # < YOUR ANSWER HERE > #\n",
        "model = tf.keras.models.Sequential([tf.keras.layers.Flatten(input_shape=(28,28)),\n",
        "                                    tf.keras.layers.Dense(512, activation=tf.nn.relu),\n",
        "                                    tf.keras.layers.Dense(No_Output_Neurons, activation=tf.nn.softmax)])\n",
        "\n",
        "model.compile(optimizer='adam', loss='sparse_categorical_crossentropy', metrics=['accuracy'])\n",
        "\n",
        "callbacks = myCallback()\n",
        "\n",
        "print(\"Training!\")\n",
        "model.fit(training_norm, training_labels, epochs=20, callbacks=[callbacks])\n",
        "training_loss, training_accuracy = model.evaluate(training_norm, training_labels)\n",
        "print(\"Testing!\")\n",
        "print(\"\\nTraining accuracy:\", training_accuracy)"
      ],
      "metadata": {
        "id": "OX4k-lboHFOH",
        "colab": {
          "base_uri": "https://localhost:8080/"
        },
        "outputId": "60a3bff3-90a8-488e-c269-b009d239d482"
      },
      "execution_count": 124,
      "outputs": [
        {
          "output_type": "stream",
          "name": "stdout",
          "text": [
            "Training!\n",
            "Epoch 1/20\n",
            "1875/1875 [==============================] - 16s 8ms/step - loss: 0.4728 - accuracy: 0.8317\n",
            "Epoch 2/20\n",
            "1875/1875 [==============================] - 15s 8ms/step - loss: 0.3591 - accuracy: 0.8703\n",
            "1875/1875 [==============================] - 6s 3ms/step - loss: 0.3265 - accuracy: 0.8819\n",
            "Testing!\n",
            "\n",
            "Training accuracy: 0.881933331489563\n"
          ]
        }
      ]
    }
  ],
  "metadata": {
    "colab": {
      "provenance": []
    },
    "kernelspec": {
      "display_name": "Python 3",
      "language": "python",
      "name": "python3"
    },
    "language_info": {
      "codemirror_mode": {
        "name": "ipython",
        "version": 3
      },
      "file_extension": ".py",
      "mimetype": "text/x-python",
      "name": "python",
      "nbconvert_exporter": "python",
      "pygments_lexer": "ipython3",
      "version": "3.6.9"
    }
  },
  "nbformat": 4,
  "nbformat_minor": 0
}
